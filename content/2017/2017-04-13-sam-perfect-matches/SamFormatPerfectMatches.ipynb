{
 "cells": [
  {
   "cell_type": "markdown",
   "metadata": {},
   "source": [
    "Today I was wondering, given a set of reads and a genome sequence, how I could filter out all of the reads that align to the genome perfectly.\n",
    "I'll explore this idea a bit here.\n",
    "I'm going to use [nullgraph](https://github.com/dib-lab/nullgraph) to simulate a random genome, [bwa](https://github.com/lh3/bwa) to compute the alignments, and [samtools](http://www.htslib.org/) for post-processing the alignments.\n",
    "\n",
    "## Simulated data\n",
    "\n",
    "I'll start by simulating a random 2.5 megabase genome and \"sequencing\" to a depth of 20x coverage."
   ]
  },
  {
   "cell_type": "code",
   "execution_count": 1,
   "metadata": {
    "collapsed": false
   },
   "outputs": [
    {
     "name": "stdout",
     "output_type": "stream",
     "text": [
      "usage: make-random-genome.py [-h] [-l LENGTH] [-s SEED] [--name NAME]\r\n",
      "\r\n",
      "optional arguments:\r\n",
      "  -h, --help            show this help message and exit\r\n",
      "  -l LENGTH, --length LENGTH\r\n",
      "                        Simulated genome length\r\n",
      "  -s SEED, --seed SEED  Random number seed\r\n",
      "  --name NAME           sequence name\r\n"
     ]
    }
   ],
   "source": [
    "make-random-genome.py -h"
   ]
  },
  {
   "cell_type": "code",
   "execution_count": 2,
   "metadata": {
    "collapsed": false
   },
   "outputs": [
    {
     "name": "stdout",
     "output_type": "stream",
     "text": [
      "Using random seed: 42\r\n",
      "Using random seed: 84\r\n",
      "Using random seed: 126\r\n",
      "Using random seed: 168\r\n",
      "Using random seed: 210\r\n",
      "Using random seed: 252\r\n",
      "Using random seed: 294\r\n",
      "Using random seed: 336\r\n",
      "Using random seed: 378\r\n",
      "Using random seed: 420\r\n",
      "\r\n",
      "real\t0m3.067s\r\n",
      "user\t0m2.876s\r\n",
      "sys\t0m0.143s\r\n"
     ]
    }
   ],
   "source": [
    "# Generating the bogus chromosome in 10 smaller pieces is quicker than in one big piece.\n",
    "echo '>bogusgenome' > bogus-genome.fa\n",
    "time for i in {1..10}\n",
    "do\n",
    "    make-random-genome.py --length 250000 --seed $((42 * $i)) | grep -v '^>' >> bogus-genome.fa\n",
    "done"
   ]
  },
  {
   "cell_type": "code",
   "execution_count": 3,
   "metadata": {
    "collapsed": false
   },
   "outputs": [
    {
     "name": "stdout",
     "output_type": "stream",
     "text": [
      "usage: make-reads.py [-h] [-e ERROR_RATE] [-r READ_LENGTH] [-C COVERAGE]\r\n",
      "                     [-S SEED] [--even] [--mutation-details MUTATION_DETAILS]\r\n",
      "                     genome\r\n",
      "\r\n",
      "positional arguments:\r\n",
      "  genome\r\n",
      "\r\n",
      "optional arguments:\r\n",
      "  -h, --help            show this help message and exit\r\n",
      "  -e ERROR_RATE, --error-rate ERROR_RATE\r\n",
      "  -r READ_LENGTH, --read-length READ_LENGTH\r\n",
      "                        Length of reads to generate\r\n",
      "  -C COVERAGE, --coverage COVERAGE\r\n",
      "                        Targeted coverage level\r\n",
      "  -S SEED, --seed SEED  Random seed\r\n",
      "  --even\r\n",
      "  --mutation-details MUTATION_DETAILS\r\n",
      "                        Write detailed log of mutations here\r\n"
     ]
    }
   ],
   "source": [
    "make-reads.py -h"
   ]
  },
  {
   "cell_type": "code",
   "execution_count": 4,
   "metadata": {
    "collapsed": false
   },
   "outputs": [
    {
     "name": "stdout",
     "output_type": "stream",
     "text": [
      "genome size: 2500000\r\n",
      "coverage: 20.0\r\n",
      "readlen: 125\r\n",
      "error rate: 0.005\r\n",
      "Read in template genome bogusgenome of length 2500000 from bogus-genome.fa\r\n",
      "Generating 400000 reads of length 125 for a target coverage of 20.0 with a target error rate of 0.005\r\n",
      "186317 of 400000 reads mutated; 251371 total mutations\r\n",
      "\r\n",
      "real\t1m39.693s\r\n",
      "user\t1m39.133s\r\n",
      "sys\t0m0.283s\r\n"
     ]
    }
   ],
   "source": [
    "time make-reads.py --error-rate 0.005 --read-length 125 --coverage 20 --seed 54321 bogus-genome.fa > bogus-reads.fa"
   ]
  },
  {
   "cell_type": "markdown",
   "metadata": {},
   "source": [
    "Ok, so we have 400k reads, 125 bp each and 186,317 of these reads have one or more \"mutations\" (representing single-nucleotide sequencing errors).\n",
    "\n",
    "## Take Un\n",
    "\n",
    "My first thought was to take the \"minimum seed length\" parameter to the extreme.\n",
    "Many alignment algorithms, **bwa mem** included, use a \"seed-and-extend\" strategy.\n",
    "The *seed* is a subsequence of the read that must match the reference perfectly for the rest of the mismatch-tolerant alignment to be computed.\n",
    "If my reads are 125 bp in length and I set the minimum seed length to 125, only alignments for reads that match perfectly should be reported.\n",
    "The remainder of the reads should be reported as unaligned.\n",
    "\n",
    "Let's see!"
   ]
  },
  {
   "cell_type": "code",
   "execution_count": 5,
   "metadata": {
    "collapsed": false
   },
   "outputs": [
    {
     "name": "stdout",
     "output_type": "stream",
     "text": [
      "[bwa_index] Pack FASTA... 0.03 sec\r\n",
      "[bwa_index] Construct BWT for the packed sequence...\r\n",
      "[bwa_index] 0.83 seconds elapse.\r\n",
      "[bwa_index] Update BWT... 0.03 sec\r\n",
      "[bwa_index] Pack forward-only FASTA... 0.02 sec\r\n",
      "[bwa_index] Construct SA from BWT and Occ... 0.20 sec\r\n",
      "[main] Version: 0.7.15-r1140\r\n",
      "[main] CMD: bwa index bogus-genome.fa\r\n",
      "[main] Real time: 1.122 sec; CPU: 1.113 sec\r\n"
     ]
    }
   ],
   "source": [
    "# First, gotta index the genome so bwa can do its thang.\n",
    "bwa index bogus-genome.fa"
   ]
  },
  {
   "cell_type": "markdown",
   "metadata": {},
   "source": [
    "I'll pipe the output of `bwa` directly to `samtools`.\n",
    "The `-f 4` flag will pull out all reads that are marked as unaligned, and the `-c` flag will count the records instead of printing them."
   ]
  },
  {
   "cell_type": "code",
   "execution_count": 6,
   "metadata": {
    "collapsed": false
   },
   "outputs": [
    {
     "name": "stdout",
     "output_type": "stream",
     "text": [
      "[M::bwa_idx_load_from_disk] read 0 ALT contigs\r\n",
      "[M::process] read 80000 sequences (10000000 bp)...\r\n",
      "[M::process] read 80000 sequences (10000000 bp)...\r\n",
      "[M::mem_process_seqs] Processed 80000 reads in 2.159 CPU sec, 2.105 real sec\r\n",
      "[M::process] read 80000 sequences (10000000 bp)...\r\n",
      "[M::mem_process_seqs] Processed 80000 reads in 1.929 CPU sec, 1.812 real sec\r\n",
      "[M::process] read 80000 sequences (10000000 bp)...\r\n",
      "[M::mem_process_seqs] Processed 80000 reads in 1.971 CPU sec, 1.857 real sec\r\n",
      "[M::process] read 80000 sequences (10000000 bp)...\r\n",
      "[M::mem_process_seqs] Processed 80000 reads in 2.274 CPU sec, 2.168 real sec\r\n",
      "[M::mem_process_seqs] Processed 80000 reads in 1.830 CPU sec, 1.759 real sec\r\n",
      "[main] Version: 0.7.15-r1140\r\n",
      "[main] CMD: bwa mem -k 125 bogus-genome.fa bogus-reads.fa\r\n",
      "[main] Real time: 9.840 sec; CPU: 10.281 sec\r\n",
      "186317\r\n"
     ]
    }
   ],
   "source": [
    "bwa mem -k 125 bogus-genome.fa bogus-reads.fa | samtools view -f 4 -c"
   ]
  },
  {
   "cell_type": "markdown",
   "metadata": {},
   "source": [
    "Great, it worked!\n",
    "We have 186,317 reads marked as unaligned, which matches the number of reads containing errors from our simulation.\n",
    "\n",
    "## Take Deux\n",
    "\n",
    "That was pretty quick and easy, but unfortunately this solution has limited utility.\n",
    "If any kind of trimming, error correction, or other quality control is performed on the reads prior to alignment, then it's almost certain that the reads will not be of uniform length.\n",
    "If I set the minimum seed length to high, some reads will not make the cut simply because they aren't long enough, but if I set it too low, reads with errors will be aligned and I'll have to resort to some other way of distinguishing perfect matches anyway.\n",
    "\n",
    "My next thought was to adjust the alignment scoring scheme and penalize mismatches, gap opens, and gap extensions so much that a read with any mismatch would not be aligned."
   ]
  },
  {
   "cell_type": "code",
   "execution_count": 7,
   "metadata": {
    "collapsed": false
   },
   "outputs": [
    {
     "name": "stdout",
     "output_type": "stream",
     "text": [
      "[M::bwa_idx_load_from_disk] read 0 ALT contigs\r\n",
      "[M::process] read 80000 sequences (10000000 bp)...\r\n",
      "[M::process] read 80000 sequences (10000000 bp)...\r\n",
      "[M::mem_process_seqs] Processed 80000 reads in 3.261 CPU sec, 3.207 real sec\r\n",
      "[M::process] read 80000 sequences (10000000 bp)...\r\n",
      "[M::mem_process_seqs] Processed 80000 reads in 7.165 CPU sec, 7.206 real sec\r\n",
      "[M::process] read 80000 sequences (10000000 bp)...\r\n",
      "[M::mem_process_seqs] Processed 80000 reads in 5.006 CPU sec, 5.368 real sec\r\n",
      "[M::process] read 80000 sequences (10000000 bp)...\r\n",
      "[M::mem_process_seqs] Processed 80000 reads in 4.185 CPU sec, 4.146 real sec\r\n",
      "[M::mem_process_seqs] Processed 80000 reads in 6.265 CPU sec, 6.539 real sec\r\n",
      "[main] Version: 0.7.15-r1140\r\n",
      "[main] CMD: bwa mem -B 100 -O [100,100] -E [100,100] bogus-genome.fa bogus-reads.fa\r\n",
      "[main] Real time: 26.631 sec; CPU: 26.008 sec\r\n",
      "7\r\n"
     ]
    }
   ],
   "source": [
    "bwa mem -B 100 -O [100,100] -E [100,100] bogus-genome.fa bogus-reads.fa | samtools view -f 4 -c"
   ]
  },
  {
   "cell_type": "code",
   "execution_count": 8,
   "metadata": {
    "collapsed": false
   },
   "outputs": [
    {
     "name": "stdout",
     "output_type": "stream",
     "text": [
      "[M::bwa_idx_load_from_disk] read 0 ALT contigs\r\n",
      "[M::process] read 80000 sequences (10000000 bp)...\r\n",
      "[M::process] read 80000 sequences (10000000 bp)...\r\n",
      "[M::mem_process_seqs] Processed 80000 reads in 4.372 CPU sec, 4.334 real sec\r\n",
      "[M::process] read 80000 sequences (10000000 bp)...\r\n",
      "[M::mem_process_seqs] Processed 80000 reads in 4.562 CPU sec, 4.719 real sec\r\n",
      "[M::process] read 80000 sequences (10000000 bp)...\r\n",
      "[M::mem_process_seqs] Processed 80000 reads in 6.073 CPU sec, 6.102 real sec\r\n",
      "[M::process] read 80000 sequences (10000000 bp)...\r\n",
      "[M::mem_process_seqs] Processed 80000 reads in 3.534 CPU sec, 3.410 real sec\r\n",
      "[M::mem_process_seqs] Processed 80000 reads in 3.393 CPU sec, 3.320 real sec\r\n",
      "[main] Version: 0.7.15-r1140\r\n",
      "[main] CMD: bwa mem -B 1000 -O [1000,1000] -E [1000,1000] bogus-genome.fa bogus-reads.fa\r\n",
      "[main] Real time: 22.047 sec; CPU: 22.072 sec\r\n",
      "0\r\n"
     ]
    }
   ],
   "source": [
    "bwa mem -B 1000 -O [1000,1000] -E [1000,1000] bogus-genome.fa bogus-reads.fa | samtools view -f 4 -c"
   ]
  },
  {
   "cell_type": "markdown",
   "metadata": {},
   "source": [
    "Not sure what's going on here, but clearly it didn't work as intended.\n",
    "\n",
    "## Take Trois\n",
    "\n",
    "My next thought was to process the alignments \"normally\" (with default parameters) and examine each alignment's CIGAR string to distinguish perfect matches from imperfect alignments.\n",
    "Ah, if only life were that easy.\n",
    "The CIGAR format uses different symbols to annotated insertions, deletions, clipped alignments, and so on.\n",
    "But someone somwhere a long time ago decided that it would be a good idea to use the same symbol to annotate matches and mismatches in an alignment.\n",
    "So if an alignment has a CIGAR string of `108M` it's impossible to know if that's a perfect match of 108 nucleotides, or 90 matches and then a single mismatch and then 17 more matches, or something else.\n",
    "One would ether have to compare the read sequence to the sequence of the genome to which it was aligned, or compare the length of the read to the number of matches in the [MD tag](http://bio-bwa.sourceforge.net/bwa.shtml#4) or something like that.\n",
    "This is getting into the realm of BAM processing libraries and scripts, which I'm trying to avoid.\n",
    "If at all possible I'd love to do this as a simple shell one-liner.\n",
    "\n",
    "My friend [Srihari](https://twitter.com/srihari176) suggested I look at the optional tags in more detail, particularly the [edit distance (NM) tag](http://bio-bwa.sourceforge.net/bwa.shtml#4).\n",
    "I felt silly for not thinking of this earlier myself (I'll chalk it up to my limited practical experience with SAM/BAM data).\n",
    "Any perfect alignment is going to have an edit distance of 0, while any imperfect alignment is going to have a positive edit distance, so that should be a simple way to distinguish and ignore perfect alignments."
   ]
  },
  {
   "cell_type": "code",
   "execution_count": 9,
   "metadata": {
    "collapsed": false
   },
   "outputs": [
    {
     "name": "stdout",
     "output_type": "stream",
     "text": [
      "[M::bwa_idx_load_from_disk] read 0 ALT contigs\r\n",
      "[M::process] read 80000 sequences (10000000 bp)...\r\n",
      "[M::process] read 80000 sequences (10000000 bp)...\r\n",
      "[M::mem_process_seqs] Processed 80000 reads in 3.601 CPU sec, 3.550 real sec\r\n",
      "[M::process] read 80000 sequences (10000000 bp)...\r\n",
      "[M::mem_process_seqs] Processed 80000 reads in 3.519 CPU sec, 3.405 real sec\r\n",
      "[M::process] read 80000 sequences (10000000 bp)...\r\n",
      "[M::mem_process_seqs] Processed 80000 reads in 5.629 CPU sec, 5.714 real sec\r\n",
      "[M::process] read 80000 sequences (10000000 bp)...\r\n",
      "[M::mem_process_seqs] Processed 80000 reads in 5.022 CPU sec, 5.151 real sec\r\n",
      "[M::mem_process_seqs] Processed 80000 reads in 3.737 CPU sec, 3.669 real sec\r\n",
      "[main] Version: 0.7.15-r1140\r\n",
      "[main] CMD: bwa mem bogus-genome.fa bogus-reads.fa\r\n",
      "[main] Real time: 21.635 sec; CPU: 21.627 sec\r\n",
      "  186194\r\n"
     ]
    }
   ],
   "source": [
    "# The grep command discards read alignments with an edit distance of 0.\n",
    "bwa mem bogus-genome.fa bogus-reads.fa | grep -v 'NM:i:0' | wc -l"
   ]
  },
  {
   "cell_type": "markdown",
   "metadata": {},
   "source": [
    "Huh, that's close, but not exactly our target.\n",
    "We should be seeing 186,317 reads.\n",
    "What's going on?\n",
    "Let's do a bit of detective work."
   ]
  },
  {
   "cell_type": "code",
   "execution_count": 10,
   "metadata": {
    "collapsed": false
   },
   "outputs": [
    {
     "name": "stdout",
     "output_type": "stream",
     "text": [
      "[M::bwa_idx_load_from_disk] read 0 ALT contigs\r\n",
      "[M::process] read 80000 sequences (10000000 bp)...\r\n",
      "[M::process] read 80000 sequences (10000000 bp)...\r\n",
      "[M::mem_process_seqs] Processed 80000 reads in 1.816 CPU sec, 1.763 real sec\r\n",
      "[M::process] read 80000 sequences (10000000 bp)...\r\n",
      "[M::mem_process_seqs] Processed 80000 reads in 2.448 CPU sec, 2.477 real sec\r\n",
      "[M::process] read 80000 sequences (10000000 bp)...\r\n",
      "[M::mem_process_seqs] Processed 80000 reads in 2.712 CPU sec, 2.592 real sec\r\n",
      "[M::process] read 80000 sequences (10000000 bp)...\r\n",
      "[M::mem_process_seqs] Processed 80000 reads in 1.967 CPU sec, 1.850 real sec\r\n",
      "[M::mem_process_seqs] Processed 80000 reads in 2.266 CPU sec, 2.218 real sec\r\n",
      "[main] Version: 0.7.15-r1140\r\n",
      "[main] CMD: bwa mem -k 125 bogus-genome.fa bogus-reads.fa\r\n",
      "[main] Real time: 11.074 sec; CPU: 11.341 sec\r\n",
      "[M::bwa_idx_load_from_disk] read 0 ALT contigs\r\n",
      "[M::process] read 80000 sequences (10000000 bp)...\r\n",
      "[M::process] read 80000 sequences (10000000 bp)...\r\n",
      "[M::mem_process_seqs] Processed 80000 reads in 3.708 CPU sec, 3.658 real sec\r\n",
      "[M::process] read 80000 sequences (10000000 bp)...\r\n",
      "[M::mem_process_seqs] Processed 80000 reads in 4.044 CPU sec, 3.941 real sec\r\n",
      "[M::process] read 80000 sequences (10000000 bp)...\r\n",
      "[M::mem_process_seqs] Processed 80000 reads in 4.456 CPU sec, 4.382 real sec\r\n",
      "[M::process] read 80000 sequences (10000000 bp)...\r\n",
      "[M::mem_process_seqs] Processed 80000 reads in 4.368 CPU sec, 4.279 real sec\r\n",
      "[M::mem_process_seqs] Processed 80000 reads in 4.595 CPU sec, 4.713 real sec\r\n",
      "[main] Version: 0.7.15-r1140\r\n",
      "[main] CMD: bwa mem bogus-genome.fa bogus-reads.fa\r\n",
      "[main] Real time: 21.216 sec; CPU: 21.325 sec\r\n",
      "read108697r\r\n",
      "read74495f\r\n",
      "read264906r\r\n",
      "read294922f\r\n",
      "read306338r\r\n"
     ]
    }
   ],
   "source": [
    "# Grab read IDs from the \"seed length\" method that gave us the correct answer earlier.\n",
    "bwa mem -k 125 bogus-genome.fa bogus-reads.fa | samtools view -f 4 > test-one.sam\n",
    "cut -f 1 test-one.sam | sort | uniq > test-one.txt\n",
    "\n",
    "# Grab read IDs from the \"edit distance\" method that isn't quite right.\n",
    "bwa mem bogus-genome.fa bogus-reads.fa | samtools view | grep -v 'NM:i:0' > test-two.sam\n",
    "cut -f 1 test-two.sam | sort | uniq > test-two.txt\n",
    "\n",
    "# Randomly grab a few reads that are appear in the first set but not the second.\n",
    "# I'm using `gshuf` on Mac OS X. Replace it with `shuf` if you're using a Linux OS.\n",
    "comm -23 test-one.txt test-two.txt | gshuf | head -n 5"
   ]
  },
  {
   "cell_type": "markdown",
   "metadata": {},
   "source": [
    "Ok let's take a closer look at a couple of these reads."
   ]
  },
  {
   "cell_type": "code",
   "execution_count": 11,
   "metadata": {
    "collapsed": false
   },
   "outputs": [
    {
     "name": "stdout",
     "output_type": "stream",
     "text": [
      ">read5193r start=1764079,mutations=2\r\n",
      "GAAGCGATAGATCCACGCGATACTCAGTGTATGTAGCCAAATCAAAAAACTACACGATGCCGAACAGAGTGTTTTATTTAACCTCCTGTTTTTGTACAACGTTTTGAGAACATATATCATgGaTT\r\n",
      "--\r\n",
      ">read43849r start=2013628,mutations=2\r\n",
      "aaTTCGCGATTCTAAGGCGCGGGGTCACCATTTAATAACCTCGCACTCGGTACTGAAGTAGCGGCCGTTCGTTTGTGGGCACTAGGTCATTCAGTCCCGTGGCGCGTTTTATAGACGAAACTTTA\r\n"
     ]
    }
   ],
   "source": [
    "grep -A 1 -e read43849r -e read5193r bogus-reads.fa"
   ]
  },
  {
   "cell_type": "markdown",
   "metadata": {},
   "source": [
    "Interesting.\n",
    "Both have a couple of sequencing errors near the end of the read (shown as lowercase symbols).\n",
    "Now let's take a look at the alignments without any filtering."
   ]
  },
  {
   "cell_type": "code",
   "execution_count": 12,
   "metadata": {
    "collapsed": false
   },
   "outputs": [
    {
     "name": "stdout",
     "output_type": "stream",
     "text": [
      "read5193r\t16\tbogusgenome\t1764085\t60\t5S120M\t*\t0\t0\tAATCCATGATATATGTTCTCAAAACGTTGTACAAAAACAGGAGGTTAAATAAAACACTCTGTTCGGCATCGTGTAGTTTTTTGATTTGGCTACATACACTGAGTATCGCGTGGATCTATCGCTTC\t*\tNM:i:0\tMD:Z:120\tAS:i:120\tXS:i:0\r\n",
      "read43849r\t16\tbogusgenome\t2013629\t60\t123M2S\t*\t0\t0\tTAAAGTTTCGTCTATAAAACGCGCCACGGGACTGAATGACCTAGTGCCCACAAACGAACGGCCGCTACTTCAGTACCGAGTGCGAGGTTATTAAATGGTGACCCCGCGCCTTAGAATCGCGAATT\t*\tNM:i:0\tMD:Z:123\tAS:i:123\tXS:i:0\r\n"
     ]
    }
   ],
   "source": [
    "# Hide the progress reports by sending them to /dev/null\n",
    "bwa mem bogus-genome.fa bogus-reads.fa 2> /dev/null | grep -e read43849r -e read5193r"
   ]
  },
  {
   "cell_type": "markdown",
   "metadata": {},
   "source": [
    "Ahh, ok.\n",
    "As the CIGAR strings show, both of these alignments are soft-clipped at the ends.\n",
    "That means the offending nucleotides are not considered part of the alignment, e.g. when computing the edit distance.\n",
    "Ignoring the soft-clipped portion, the remainder of the read is a perfect match and is thus being (erroneously) discarded.\n",
    "\n",
    "## Take Quatre\n",
    "\n",
    "Ok, so it looks like we need to check for soft clipping before we apply the edit distance filter.\n",
    "It doesn't look like soft clipping can be disabled with **bwa mem** (I would LOVE to be corrected!), so it'll have to be handled by post-processing.\n",
    "\n",
    "Our algorithm boils down to this: keep the record if the CIGAR string does not match the regular expression `\\d+M` (check for soft clipping) or if the edit distance is 0.\n",
    "I can think of two ways of doing this.\n",
    "The first approach is lazier, but is also more concise and less cryptic to those who have never slung Perl."
   ]
  },
  {
   "cell_type": "code",
   "execution_count": 13,
   "metadata": {
    "collapsed": false
   },
   "outputs": [
    {
     "name": "stdout",
     "output_type": "stream",
     "text": [
      "[M::bwa_idx_load_from_disk] read 0 ALT contigs\r\n",
      "[M::process] read 80000 sequences (10000000 bp)...\r\n",
      "[M::process] read 80000 sequences (10000000 bp)...\r\n",
      "[M::mem_process_seqs] Processed 80000 reads in 5.212 CPU sec, 5.262 real sec\r\n",
      "[M::process] read 80000 sequences (10000000 bp)...\r\n",
      "[M::mem_process_seqs] Processed 80000 reads in 6.921 CPU sec, 6.943 real sec\r\n",
      "[M::process] read 80000 sequences (10000000 bp)...\r\n",
      "[M::mem_process_seqs] Processed 80000 reads in 6.100 CPU sec, 6.010 real sec\r\n",
      "[M::process] read 80000 sequences (10000000 bp)...\r\n",
      "[M::mem_process_seqs] Processed 80000 reads in 3.542 CPU sec, 3.420 real sec\r\n",
      "[M::mem_process_seqs] Processed 80000 reads in 3.608 CPU sec, 3.531 real sec\r\n",
      "[main] Version: 0.7.15-r1140\r\n",
      "[main] CMD: bwa mem bogus-genome.fa bogus-reads.fa\r\n",
      "[main] Real time: 25.384 sec; CPU: 25.531 sec\r\n",
      "  186317\r\n"
     ]
    }
   ],
   "source": [
    "bwa mem bogus-genome.fa bogus-reads.fa | samtools view | perl -ne 'print if !/\\t\\d+M\\t/ || !/NM:i:0/' | wc -l"
   ]
  },
  {
   "cell_type": "markdown",
   "metadata": {},
   "source": [
    "The second approach is more explicit, avoiding any unintended off-target matches for the `\\d+M` regex.\n",
    "This comes at the cost of introducing more complexity and verbosity in the Perl code, and honestly I don't know if an off-target match for that regex is even possible for well-formatted SAM alignments."
   ]
  },
  {
   "cell_type": "code",
   "execution_count": 14,
   "metadata": {
    "collapsed": false
   },
   "outputs": [
    {
     "name": "stdout",
     "output_type": "stream",
     "text": [
      "[M::bwa_idx_load_from_disk] read 0 ALT contigs\r\n",
      "[M::process] read 80000 sequences (10000000 bp)...\r\n",
      "[M::process] read 80000 sequences (10000000 bp)...\r\n",
      "[M::mem_process_seqs] Processed 80000 reads in 3.712 CPU sec, 3.667 real sec\r\n",
      "[M::process] read 80000 sequences (10000000 bp)...\r\n",
      "[M::mem_process_seqs] Processed 80000 reads in 5.299 CPU sec, 5.271 real sec\r\n",
      "[M::process] read 80000 sequences (10000000 bp)...\r\n",
      "[M::mem_process_seqs] Processed 80000 reads in 3.721 CPU sec, 3.590 real sec\r\n",
      "[M::process] read 80000 sequences (10000000 bp)...\r\n",
      "[M::mem_process_seqs] Processed 80000 reads in 4.195 CPU sec, 4.070 real sec\r\n",
      "[M::mem_process_seqs] Processed 80000 reads in 4.451 CPU sec, 4.383 real sec\r\n",
      "[main] Version: 0.7.15-r1140\r\n",
      "[main] CMD: bwa mem bogus-genome.fa bogus-reads.fa\r\n",
      "[main] Real time: 21.338 sec; CPU: 21.505 sec\r\n",
      "  186317\r\n"
     ]
    }
   ],
   "source": [
    "bwa mem bogus-genome.fa bogus-reads.fa | samtools view | perl -ne '@v = split; print if $v[5] =~ /S/ || !/NM:i:0/' | wc -l"
   ]
  },
  {
   "cell_type": "markdown",
   "metadata": {},
   "source": [
    "In any case, both approaches see to work correctly and give us just the reads that do not align perfectly to the reference.\n",
    "\n",
    "## Fin\n",
    "\n",
    "One thing I haven't considered much here is performance.\n",
    "This whole exercise would have been pretty silly if a short read aligner exists that make it easy to require only exact alignments to be reported.\n",
    "But I'm not familiar with any, and this use case has such limited utility with the data we work with on a daily basis that I doubt there is one in wide use.\n",
    "Again, I'd be happy to be proven wrong!"
   ]
  }
 ],
 "metadata": {
  "kernelspec": {
   "display_name": "Bash",
   "language": "bash",
   "name": "bash"
  },
  "language_info": {
   "codemirror_mode": "shell",
   "file_extension": ".sh",
   "mimetype": "text/x-sh",
   "name": "bash"
  }
 },
 "nbformat": 4,
 "nbformat_minor": 2
}
