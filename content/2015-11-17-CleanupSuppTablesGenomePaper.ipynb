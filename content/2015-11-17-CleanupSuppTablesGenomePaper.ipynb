{
 "cells": [
  {
   "cell_type": "markdown",
   "metadata": {},
   "source": [
    "We submitted a genome paper to *Genome Biology* over the weekend.\n",
    "I'm going through our repository and tidying things up, and I realized I have not had a chance to record my notes on several of the supplemental tables providing a comparison of genome features across seven species.\n",
    "I'll go ahead and do so here.\n",
    "\n",
    "The data files were retrieved from [HymHub](http://brendelgroup.github.io/HymHub/), and the `mlr` program was obtained from [johnkerl/miller](https://github.com/johnkerl/miller.git) (installed with [Homebrew](http://brew.sh/)).\n"
   ]
  },
  {
   "cell_type": "code",
   "execution_count": 1,
   "metadata": {
    "collapsed": false
   },
   "outputs": [
    {
     "name": "stdout",
     "output_type": "stream",
     "text": []
    }
   ],
   "source": [
    "# Define an alias for mlr command settings\n",
    "#  --csv: comma-separated values\n",
    "#  --fs tab: lol j/k they're separated by tabs (fs=field separator)\n",
    "#  --rs lf: use line feed as record separator (instead of default carriage return + line feed)\n",
    "#  --ofmt %.2lf: print only 2 decimal points for real numbers\n",
    "alias mlrcmd='mlr --csv --fs tab --rs lf --ofmt %.2lf'"
   ]
  },
  {
   "cell_type": "markdown",
   "metadata": {},
   "source": [
    "## Table S6: gene model characteristics\n",
    "\n",
    "Here we're looking at gene models across the seven species, and in particular the distribution of gene length, exon count, and nucleotide composition. First we report the length distribution: the mean, median, min, and max gene lengths (in base pairs)."
   ]
  },
  {
   "cell_type": "code",
   "execution_count": 2,
   "metadata": {
    "collapsed": false
   },
   "outputs": [
    {
     "name": "stdout",
     "output_type": "stream",
     "text": [
      "Length_mean\tLength_p50\tLength_min\tLength_max\r\n",
      "13139.40\t3557\t105\t904366\r\n",
      "Length_mean\tLength_p50\tLength_min\tLength_max\r\n",
      "15409.72\t3774\t276\t674837\r\n",
      "Length_mean\tLength_p50\tLength_min\tLength_max\r\n",
      "12699.43\t3843\t210\t760915\r\n",
      "Length_mean\tLength_p50\tLength_min\tLength_max\r\n",
      "11682.57\t3739\t205\t580610\r\n",
      "Length_mean\tLength_p50\tLength_min\tLength_max\r\n",
      "4796.88\t2778\t204\t86971\r\n",
      "Length_mean\tLength_p50\tLength_min\tLength_max\r\n",
      "11460.33\t3535\t228\t549523\r\n",
      "Length_mean\tLength_p50\tLength_min\tLength_max\r\n",
      "9917.48\t2979\t105\t600051\r\n"
     ]
    }
   ],
   "source": [
    "for species in Amel Bter Hsal Cflo Pdom Pcan Nvit\n",
    "do\n",
    "    mlrcmd stats1 -a mean,p50,min,max -f Length \\\n",
    "           scratch/species/${species}/${species}.pre-mrnas.tsv\n",
    "done"
   ]
  },
  {
   "cell_type": "markdown",
   "metadata": {},
   "source": [
    "The header is duplicated for each file, so let's get rid of that with the tail command."
   ]
  },
  {
   "cell_type": "code",
   "execution_count": 3,
   "metadata": {
    "collapsed": false
   },
   "outputs": [
    {
     "name": "stdout",
     "output_type": "stream",
     "text": [
      "13139.40\t3557\t105\t904366\r\n",
      "15409.72\t3774\t276\t674837\r\n",
      "12699.43\t3843\t210\t760915\r\n",
      "11682.57\t3739\t205\t580610\r\n",
      "4796.88\t2778\t204\t86971\r\n",
      "11460.33\t3535\t228\t549523\r\n",
      "9917.48\t2979\t105\t600051\r\n"
     ]
    }
   ],
   "source": [
    "for species in Amel Bter Hsal Cflo Pdom Pcan Nvit\n",
    "do\n",
    "    mlrcmd stats1 -a mean,p50,min,max -f Length \\\n",
    "           scratch/species/${species}/${species}.pre-mrnas.tsv \\\n",
    "        | tail -n 1\n",
    "done"
   ]
  },
  {
   "cell_type": "markdown",
   "metadata": {},
   "source": [
    "Now we can add back in our own header, and include the species label on each row."
   ]
  },
  {
   "cell_type": "code",
   "execution_count": 4,
   "metadata": {
    "collapsed": false
   },
   "outputs": [
    {
     "name": "stdout",
     "output_type": "stream",
     "text": [
      "Species\tMean\tMedian\tMin\tMax\r\n",
      "Amel\t13139.40\t3557\t105\t904366\r\n",
      "Bter\t15409.72\t3774\t276\t674837\r\n",
      "Hsal\t12699.43\t3843\t210\t760915\r\n",
      "Cflo\t11682.57\t3739\t205\t580610\r\n",
      "Pdom\t4796.88\t2778\t204\t86971\r\n",
      "Pcan\t11460.33\t3535\t228\t549523\r\n",
      "Nvit\t9917.48\t2979\t105\t600051\r\n"
     ]
    }
   ],
   "source": [
    "echo $'Species\\tMean\\tMedian\\tMin\\tMax'\n",
    "for species in Amel Bter Hsal Cflo Pdom Pcan Nvit\n",
    "do\n",
    "    echo -n ${species}$'\\t'\n",
    "    mlrcmd stats1 -a mean,p50,min,max -f Length \\\n",
    "           scratch/species/${species}/${species}.pre-mrnas.tsv \\\n",
    "        | tail -n 1\n",
    "done"
   ]
  },
  {
   "cell_type": "markdown",
   "metadata": {},
   "source": [
    "Ok, this looks much better.\n",
    "\n",
    "We've been using `-f Length` to specify which field from our data tables to compute these statistics for.\n",
    "In addition to length, we also want to compute these statistics for exon count and nucleotide composition (`ExonCount` and `GCContent` in the data tables, respectively).\n",
    "Rather than retyping the command two more times, let's just wrap the command in another loop and iterate over each field."
   ]
  },
  {
   "cell_type": "code",
   "execution_count": 5,
   "metadata": {
    "collapsed": false
   },
   "outputs": [
    {
     "name": "stdout",
     "output_type": "stream",
     "text": [
      "\r\n",
      "Length\r\n",
      "Species\tMean\tMedian\tMin\tMax\r\n",
      "Amel\t13139.40\t3557\t105\t904366\r\n",
      "Bter\t15409.72\t3774\t276\t674837\r\n",
      "Hsal\t12699.43\t3843\t210\t760915\r\n",
      "Cflo\t11682.57\t3739\t205\t580610\r\n",
      "Pdom\t4796.88\t2778\t204\t86971\r\n",
      "Pcan\t11460.33\t3535\t228\t549523\r\n",
      "Nvit\t9917.48\t2979\t105\t600051\r\n",
      "\r\n",
      "ExonCount\r\n",
      "Species\tMean\tMedian\tMin\tMax\r\n",
      "Amel\t6.92\t5\t1\t134\r\n",
      "Bter\t7.06\t6\t1\t165\r\n",
      "Hsal\t6.89\t5\t1\t76\r\n",
      "Cflo\t6.99\t6\t1\t121\r\n",
      "Pdom\t6.59\t5\t1\t138\r\n",
      "Pcan\t7.38\t6\t1\t175\r\n",
      "Nvit\t6.51\t5\t1\t73\r\n",
      "\r\n",
      "GCContent\r\n",
      "Species\tMean\tMedian\tMin\tMax\r\n",
      "Amel\t0.29\t0.27\t0.13\t0.71\r\n",
      "Bter\t0.34\t0.33\t0.21\t0.64\r\n",
      "Hsal\t0.41\t0.40\t0.22\t0.70\r\n",
      "Cflo\t0.34\t0.33\t0.19\t0.70\r\n",
      "Pdom\t0.31\t0.30\t0.17\t0.62\r\n",
      "Pcan\t0.31\t0.30\t0.19\t0.58\r\n",
      "Nvit\t0.40\t0.40\t0.20\t0.74\r\n"
     ]
    }
   ],
   "source": [
    "for field in Length ExonCount GCContent\n",
    "do\n",
    "    echo\n",
    "    echo $field\n",
    "    echo $'Species\\tMean\\tMedian\\tMin\\tMax'\n",
    "    for species in Amel Bter Hsal Cflo Pdom Pcan Nvit\n",
    "    do\n",
    "        echo -n ${species}$'\\t'\n",
    "        mlrcmd stats1 -a mean,p50,min,max -f $field \\\n",
    "               scratch/species/${species}/${species}.pre-mrnas.tsv \\\n",
    "            | tail -n 1\n",
    "    done\n",
    "done"
   ]
  },
  {
   "cell_type": "markdown",
   "metadata": {},
   "source": [
    "Great.\n",
    "This doesn't get the data into *exactly* the same format as the table, but it's close enough that it requires only a few minutes of copy/paste work to compose the final table.\n",
    "Had we been using LaTeX to typeset the supplement, I might have taken a few more minutes to completely automate the construction of the table, but since we're using Word anyway :( I figured this would be sufficient."
   ]
  },
  {
   "cell_type": "markdown",
   "metadata": {},
   "source": [
    "## Table S7-S8: exon and intron characteristics\n",
    "\n",
    "We'll use the same basic approach for computing summary stats for exon and intron characteristics that we did for entire gene models.\n",
    "There are two differences, however.\n",
    "\n",
    "- First, exon count only makes sense at the gene level, so we don't compute this for exons and introns.\n",
    "- Second, some of the annotated exons and introns are extremely short, which really distorts the summary statistics for nucleotide composition.\n",
    "Although outliers may be interesting (if indeed they are annotated correctly), here we are simply trying to get a feel for how different, on average, these genomic features are across species.\n",
    "\n",
    "With respect to this second point, we first compute the 5% and 95% length quantiles over a large number of related species, and then use these values to filter exons and introns before computing summary statistics for nucleotide composition.\n",
    "We also make sure that exons and introns contain no more than 25% ambiguous nucleotide calls."
   ]
  },
  {
   "cell_type": "code",
   "execution_count": 6,
   "metadata": {
    "collapsed": false
   },
   "outputs": [
    {
     "name": "stdout",
     "output_type": "stream",
     "text": [
      "Length_p5\tLength_p95\r\n",
      "66\t1101\r\n"
     ]
    }
   ],
   "source": [
    "mlrcmd stats1 -a p5,p95 -f Length scratch/data/exons.tsv"
   ]
  },
  {
   "cell_type": "markdown",
   "metadata": {},
   "source": [
    "Let's capture these values and store them in variables so we can use them for subsequent commands."
   ]
  },
  {
   "cell_type": "code",
   "execution_count": 7,
   "metadata": {
    "collapsed": false
   },
   "outputs": [
    {
     "name": "stdout",
     "output_type": "stream",
     "text": [
      " 5% quantile: 66\r\n",
      "95% quantile: 1101\r\n"
     ]
    }
   ],
   "source": [
    "p5=$(mlrcmd stats1 -a p5,p95 -f Length scratch/data/exons.tsv | tail -n 1 | cut -f 1)\n",
    "p95=$(mlrcmd stats1 -a p5,p95 -f Length scratch/data/exons.tsv | tail -n 1 | cut -f 2)\n",
    "\n",
    "echo \" 5% quantile: $p5\"\n",
    "echo \"95% quantile: $p95\""
   ]
  },
  {
   "cell_type": "markdown",
   "metadata": {},
   "source": [
    "Now let's feed these in to the filter command.\n",
    "We have to be careful to escape field names and shell variables, since both begin with the dollar sign prefix."
   ]
  },
  {
   "cell_type": "code",
   "execution_count": 8,
   "metadata": {
    "collapsed": false
   },
   "outputs": [
    {
     "name": "stdout",
     "output_type": "stream",
     "text": [
      "GCContent_mean\tGCContent_p50\tGCContent_min\tGCContent_max\r\n",
      "0.37\t0.35\t0.07\t0.80\r\n",
      "GCContent_mean\tGCContent_p50\tGCContent_min\tGCContent_max\r\n",
      "0.40\t0.39\t0.14\t0.73\r\n",
      "GCContent_mean\tGCContent_p50\tGCContent_min\tGCContent_max\r\n",
      "0.46\t0.46\t0.13\t0.80\r\n",
      "GCContent_mean\tGCContent_p50\tGCContent_min\tGCContent_max\r\n",
      "0.42\t0.41\t0.16\t0.75\r\n",
      "GCContent_mean\tGCContent_p50\tGCContent_min\tGCContent_max\r\n",
      "0.37\t0.36\t0.04\t0.73\r\n",
      "GCContent_mean\tGCContent_p50\tGCContent_min\tGCContent_max\r\n",
      "0.37\t0.37\t0.12\t0.75\r\n",
      "GCContent_mean\tGCContent_p50\tGCContent_min\tGCContent_max\r\n",
      "0.46\t0.45\t0.15\t0.79\r\n"
     ]
    }
   ],
   "source": [
    "for species in Amel Bter Hsal Cflo Pdom Pcan Nvit\n",
    "do\n",
    "    mlrcmd filter \\\n",
    "           \"\\$Length >= $p5 && \\$Length <= $p95 && \\$NContent < 0.25\" \\\n",
    "           scratch/species/${species}/${species}.exons.tsv \\\n",
    "        | mlrcmd stats1 -a mean,p50,min,max -f GCContent\n",
    "done"
   ]
  },
  {
   "cell_type": "markdown",
   "metadata": {},
   "source": [
    "We need a bit of cleanup, similar to what we did before."
   ]
  },
  {
   "cell_type": "code",
   "execution_count": 9,
   "metadata": {
    "collapsed": false
   },
   "outputs": [
    {
     "name": "stdout",
     "output_type": "stream",
     "text": [
      "Species\tMean\tMedian\tMin\tMax\r\n",
      "Amel\t0.37\t0.35\t0.07\t0.80\r\n",
      "Bter\t0.40\t0.39\t0.14\t0.73\r\n",
      "Hsal\t0.46\t0.46\t0.13\t0.80\r\n",
      "Cflo\t0.42\t0.41\t0.16\t0.75\r\n",
      "Pdom\t0.37\t0.36\t0.04\t0.73\r\n",
      "Pcan\t0.37\t0.37\t0.12\t0.75\r\n",
      "Nvit\t0.46\t0.45\t0.15\t0.79\r\n"
     ]
    }
   ],
   "source": [
    "echo $'Species\\tMean\\tMedian\\tMin\\tMax'\n",
    "for species in Amel Bter Hsal Cflo Pdom Pcan Nvit\n",
    "do\n",
    "    echo -n ${species}$'\\t'\n",
    "    mlrcmd filter \\\n",
    "           \"\\$Length >= $p5 && \\$Length <= $p95 && \\$NContent < 0.25\" \\\n",
    "           scratch/species/${species}/${species}.exons.tsv \\\n",
    "        | mlrcmd stats1 -a mean,p50,min,max -f GCContent \\\n",
    "        | tail -n 1\n",
    "done"
   ]
  },
  {
   "cell_type": "markdown",
   "metadata": {},
   "source": [
    "Now let's wrap it all up and bring it together to produce the final versions of Table S7-S8."
   ]
  },
  {
   "cell_type": "code",
   "execution_count": 10,
   "metadata": {
    "collapsed": false,
    "scrolled": false
   },
   "outputs": [
    {
     "name": "stdout",
     "output_type": "stream",
     "text": [
      "\r\n",
      "\r\n",
      "=====EXONS=====\r\n",
      "\r\n",
      "Length\r\n",
      "Species\tMean\tMedian\tMin\tMax\r\n",
      "Amel\t360.83\t210\t1\t15394\r\n",
      "Bter\t389.78\t210\t2\t14946\r\n",
      "Hsal\t339.73\t206\t2\t18463\r\n",
      "Cflo\t324.61\t206\t2\t12042\r\n",
      "Pdom\t276.92\t189\t1\t10835\r\n",
      "Pcan\t350.70\t212\t3\t11754\r\n",
      "Nvit\t352.79\t216\t1\t16428\r\n",
      "\r\n",
      "GCContent\r\n",
      "Species\tMean\tMedian\tMin\tMax\r\n",
      "Amel\t0.37\t0.35\t0.07\t0.80\r\n",
      "Bter\t0.40\t0.39\t0.14\t0.73\r\n",
      "Hsal\t0.46\t0.46\t0.13\t0.80\r\n",
      "Cflo\t0.42\t0.41\t0.16\t0.75\r\n",
      "Pdom\t0.37\t0.36\t0.04\t0.73\r\n",
      "Pcan\t0.37\t0.37\t0.12\t0.75\r\n",
      "Nvit\t0.46\t0.45\t0.15\t0.79\r\n",
      "\r\n",
      "\r\n",
      "=====INTRONS=====\r\n",
      "\r\n",
      "Length\r\n",
      "Species\tMean\tMedian\tMin\tMax\r\n",
      "Amel\t1803.65\t126\t29\t557153\r\n",
      "Bter\t2089.90\t129\t1\t564389\r\n",
      "Hsal\t1758.45\t193\t30\t564989\r\n",
      "Cflo\t1571.71\t201\t30\t465607\r\n",
      "Pdom\t531.18\t109\t4\t48311\r\n",
      "Pcan\t1390.85\t109\t30\t398425\r\n",
      "Nvit\t1410.00\t89\t30\t431041\r\n",
      "\r\n",
      "GCContent\r\n",
      "Species\tMean\tMedian\tMin\tMax\r\n",
      "Amel\t0.19\t0.17\t0.02\t0.73\r\n",
      "Bter\t0.26\t0.25\t0.04\t0.69\r\n",
      "Hsal\t0.35\t0.34\t0.03\t0.94\r\n",
      "Cflo\t0.24\t0.23\t0.01\t0.77\r\n",
      "Pdom\t0.22\t0.21\t0.01\t0.74\r\n",
      "Pcan\t0.22\t0.21\t0.00\t0.87\r\n",
      "Nvit\t0.32\t0.30\t0.06\t0.81\r\n"
     ]
    }
   ],
   "source": [
    "for featuretype in exons introns\n",
    "do\n",
    "    echo\n",
    "    echo\n",
    "    title=$(echo $featuretype | tr '[:lower:]' '[:upper:]')\n",
    "    echo \"=====${title}=====\"\n",
    "\n",
    "    echo\n",
    "    echo \"Length\"\n",
    "    echo $'Species\\tMean\\tMedian\\tMin\\tMax'\n",
    "    for species in Amel Bter Hsal Cflo Pdom Pcan Nvit\n",
    "    do\n",
    "        echo -n ${species}$'\\t'\n",
    "        mlrcmd stats1 -a mean,p50,min,max -f Length \\\n",
    "               scratch/species/${species}/${species}.${featuretype}.tsv \\\n",
    "            | tail -n 1\n",
    "    done\n",
    "    \n",
    "    echo\n",
    "    echo \"GCContent\"\n",
    "    echo $'Species\\tMean\\tMedian\\tMin\\tMax'\n",
    "    p5=$(mlrcmd stats1 -a p5,p95 -f Length scratch/data/${featuretype}.tsv | tail -n 1 | cut -f 1)\n",
    "    p95=$(mlrcmd stats1 -a p5,p95 -f Length scratch/data/${featuretype}.tsv | tail -n 1 | cut -f 2)\n",
    "    for species in Amel Bter Hsal Cflo Pdom Pcan Nvit\n",
    "    do\n",
    "        echo -n ${species}$'\\t'\n",
    "        mlrcmd filter \\\n",
    "               \"\\$Length >= $p5 && \\$Length <= $p95 && \\$NContent < 0.25\" \\\n",
    "               scratch/species/${species}/${species}.${featuretype}.tsv \\\n",
    "            | mlrcmd stats1 -a mean,p50,min,max -f GCContent \\\n",
    "            | tail -n 1\n",
    "done\n",
    "done"
   ]
  },
  {
   "cell_type": "markdown",
   "metadata": {},
   "source": [
    "That's it!"
   ]
  }
 ],
 "metadata": {
  "kernelspec": {
   "display_name": "Bash",
   "language": "bash",
   "name": "bash"
  },
  "language_info": {
   "codemirror_mode": "shell",
   "file_extension": ".sh",
   "mimetype": "text/x-sh",
   "name": "bash"
  }
 },
 "nbformat": 4,
 "nbformat_minor": 0
}
