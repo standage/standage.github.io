{
 "cells": [
  {
   "cell_type": "markdown",
   "metadata": {},
   "source": [
    "We submitted a genome paper to *Genome Biology* over the weekend.\n",
    "I'm going through our repository and tidying things up, and I realized I have not had a chance to record my notes on several of the supplemental tables providing a comparison of genome features across seven species.\n",
    "I'll go ahead and do so here.\n",
    "\n",
    "The data files were retrieved from [HymHub](http://brendelgroup.github.io/HymHub/), and the `mlr` program was obtained from [johnkerl/miller](https://github.com/johnkerl/miller.git).\n",
    "The `mlr` program did not work with these examples when installed with Homebrew or downloaded from the latest release on GitHub, so compiled and used v1.0.1."
   ]
  },
  {
   "cell_type": "markdown",
   "metadata": {},
   "source": [
    "## Table S6: gene model characteristics\n",
    "\n",
    "Here we're looking at gene models across the seven species, and in particular the distribution of gene length, exon count, and nucleotide composition. First we report the length distribution: the mean, median, min, and max gene lengths (in base pairs)."
   ]
  },
  {
   "cell_type": "code",
   "execution_count": 1,
   "metadata": {
    "collapsed": false
   },
   "outputs": [
    {
     "name": "stdout",
     "output_type": "stream",
     "text": [
      "Length_mean\tLength_p50\tLength_min\tLength_max\r\n",
      "13139.399587\t3557.000000\t105.000000\t904366.000000\r\n",
      "Length_mean\tLength_p50\tLength_min\tLength_max\r\n",
      "15409.717188\t3774.000000\t276.000000\t674837.000000\r\n",
      "Length_mean\tLength_p50\tLength_min\tLength_max\r\n",
      "12699.426876\t3843.000000\t210.000000\t760915.000000\r\n",
      "Length_mean\tLength_p50\tLength_min\tLength_max\r\n",
      "11682.565722\t3739.000000\t205.000000\t580610.000000\r\n",
      "Length_mean\tLength_p50\tLength_min\tLength_max\r\n",
      "4796.884429\t2778.000000\t204.000000\t86971.000000\r\n",
      "Length_mean\tLength_p50\tLength_min\tLength_max\r\n",
      "3704.335009\t1819.000000\t150.000000\t214391.000000\r\n",
      "Length_mean\tLength_p50\tLength_min\tLength_max\r\n",
      "9917.481742\t2979.000000\t105.000000\t600051.000000\r\n"
     ]
    }
   ],
   "source": [
    "for species in Amel Bter Hsal Cflo Pdom Pcan Nvit\n",
    "do\n",
    "    ./mlr --csv --fs tab stats1 -a mean,p50,min,max \\\n",
    "        -f Length scratch/species/${species}/${species}.pre-mrnas.tsv\n",
    "done"
   ]
  },
  {
   "cell_type": "markdown",
   "metadata": {},
   "source": [
    "The header is duplicated for each file, so let's get rid of that with the tail command."
   ]
  },
  {
   "cell_type": "code",
   "execution_count": 2,
   "metadata": {
    "collapsed": false
   },
   "outputs": [
    {
     "name": "stdout",
     "output_type": "stream",
     "text": [
      "13139.399587\t3557.000000\t105.000000\t904366.000000\r\n",
      "15409.717188\t3774.000000\t276.000000\t674837.000000\r\n",
      "12699.426876\t3843.000000\t210.000000\t760915.000000\r\n",
      "11682.565722\t3739.000000\t205.000000\t580610.000000\r\n",
      "4796.884429\t2778.000000\t204.000000\t86971.000000\r\n",
      "3704.335009\t1819.000000\t150.000000\t214391.000000\r\n",
      "9917.481742\t2979.000000\t105.000000\t600051.000000\r\n"
     ]
    }
   ],
   "source": [
    "for species in Amel Bter Hsal Cflo Pdom Pcan Nvit\n",
    "do\n",
    "    ./mlr --csv --fs tab stats1 -a mean,p50,min,max \\\n",
    "        -f Length scratch/species/${species}/${species}.pre-mrnas.tsv \\\n",
    "        | tail -n 1\n",
    "done"
   ]
  },
  {
   "cell_type": "markdown",
   "metadata": {},
   "source": [
    "Now we can add back in our own header, and include the species label on each row."
   ]
  },
  {
   "cell_type": "code",
   "execution_count": 3,
   "metadata": {
    "collapsed": false
   },
   "outputs": [
    {
     "name": "stdout",
     "output_type": "stream",
     "text": [
      "Species\tMean\tMedian\tMin\tMax\r\n",
      "Amel\t13139.399587\t3557.000000\t105.000000\t904366.000000\r\n",
      "Bter\t15409.717188\t3774.000000\t276.000000\t674837.000000\r\n",
      "Hsal\t12699.426876\t3843.000000\t210.000000\t760915.000000\r\n",
      "Cflo\t11682.565722\t3739.000000\t205.000000\t580610.000000\r\n",
      "Pdom\t4796.884429\t2778.000000\t204.000000\t86971.000000\r\n",
      "Pcan\t3704.335009\t1819.000000\t150.000000\t214391.000000\r\n",
      "Nvit\t9917.481742\t2979.000000\t105.000000\t600051.000000\r\n"
     ]
    }
   ],
   "source": [
    "echo $'Species\\tMean\\tMedian\\tMin\\tMax'\n",
    "for species in Amel Bter Hsal Cflo Pdom Pcan Nvit\n",
    "do\n",
    "    echo -n ${species}$'\\t'\n",
    "    ./mlr --csv --fs tab stats1 -a mean,p50,min,max \\\n",
    "        -f Length scratch/species/${species}/${species}.pre-mrnas.tsv \\\n",
    "        | tail -n 1\n",
    "done"
   ]
  },
  {
   "cell_type": "markdown",
   "metadata": {},
   "source": [
    "Ok, this looks much better.\n",
    "\n",
    "We've been using `-f Length` to specify which field from our data tables to compute these statistics for.\n",
    "In addition to length, we also want to compute these statistics for exon count and nucleotide composition (`ExonCount` and `GCContent` in the data tables, respectively).\n",
    "Rather than retyping the command two more times, let's just wrap the command in another loop and iterate over each field."
   ]
  },
  {
   "cell_type": "code",
   "execution_count": 4,
   "metadata": {
    "collapsed": false
   },
   "outputs": [
    {
     "name": "stdout",
     "output_type": "stream",
     "text": [
      "\r\n",
      "Length\r\n",
      "Species\tMean\tMedian\tMin\tMax\r\n",
      "Amel\t13139.399587\t3557.000000\t105.000000\t904366.000000\r\n",
      "Bter\t15409.717188\t3774.000000\t276.000000\t674837.000000\r\n",
      "Hsal\t12699.426876\t3843.000000\t210.000000\t760915.000000\r\n",
      "Cflo\t11682.565722\t3739.000000\t205.000000\t580610.000000\r\n",
      "Pdom\t4796.884429\t2778.000000\t204.000000\t86971.000000\r\n",
      "Pcan\t3704.335009\t1819.000000\t150.000000\t214391.000000\r\n",
      "Nvit\t9917.481742\t2979.000000\t105.000000\t600051.000000\r\n",
      "\r\n",
      "ExonCount\r\n",
      "Species\tMean\tMedian\tMin\tMax\r\n",
      "Amel\t6.920201\t5.000000\t1.000000\t134.000000\r\n",
      "Bter\t7.058179\t6.000000\t1.000000\t165.000000\r\n",
      "Hsal\t6.890956\t5.000000\t1.000000\t76.000000\r\n",
      "Cflo\t6.990243\t6.000000\t1.000000\t121.000000\r\n",
      "Pdom\t6.593339\t5.000000\t1.000000\t138.000000\r\n",
      "Pcan\t4.662955\t3.000000\t1.000000\t134.000000\r\n",
      "Nvit\t6.507029\t5.000000\t1.000000\t73.000000\r\n",
      "\r\n",
      "GCContent\r\n",
      "Species\tMean\tMedian\tMin\tMax\r\n",
      "Amel\t0.290806\t0.272000\t0.130000\t0.713000\r\n",
      "Bter\t0.337557\t0.329000\t0.209000\t0.643000\r\n",
      "Hsal\t0.406654\t0.399000\t0.216000\t0.697000\r\n",
      "Cflo\t0.335391\t0.326000\t0.193000\t0.704000\r\n",
      "Pdom\t0.308482\t0.300000\t0.173000\t0.620000\r\n",
      "Pcan\t0.344893\t0.322000\t0.087000\t0.729000\r\n",
      "Nvit\t0.403433\t0.397000\t0.204000\t0.739000\r\n"
     ]
    }
   ],
   "source": [
    "for field in Length ExonCount GCContent\n",
    "do\n",
    "    echo\n",
    "    echo $field\n",
    "    echo $'Species\\tMean\\tMedian\\tMin\\tMax'\n",
    "    for species in Amel Bter Hsal Cflo Pdom Pcan Nvit\n",
    "    do\n",
    "        echo -n ${species}$'\\t'\n",
    "        ./mlr --csv --fs tab stats1 -a mean,p50,min,max \\\n",
    "            -f $field scratch/species/${species}/${species}.pre-mrnas.tsv \\\n",
    "            | tail -n 1\n",
    "    done\n",
    "done"
   ]
  },
  {
   "cell_type": "markdown",
   "metadata": {},
   "source": [
    "Great.\n",
    "This doesn't get the data into *exactly* the same format as the table, but it's close enough that it requires only a few minutes of copy/paste work to compose the final table.\n",
    "Had we been using LaTeX to typeset the supplement, I might have taken a few more minutes to completely automate the construction of the table, but since we're using Word anyway :( I figured this would be sufficient."
   ]
  },
  {
   "cell_type": "markdown",
   "metadata": {},
   "source": [
    "## Table S7-S8: exon and intron characteristics\n",
    "\n",
    "We'll use the same basic approach for computing summary stats for exon and intron characteristics that we did for entire gene models.\n",
    "There are two differences, however.\n",
    "\n",
    "- First, exon count only makes sense at the gene level, so we don't compute this for exons and introns.\n",
    "- Second, some of the annotated exons and introns are extremely short, which really distorts the summary statistics for nucleotide composition.\n",
    "Although outliers may be interesting (if indeed they are annotated correctly), here we are simply trying to get a feel for how different, on average, these genomic features are across species.\n",
    "\n",
    "With respect to this second point, we first compute the 5% and 95% length quantiles over a large number of related species, and then use these values to filter exons and introns before computing summary statistics for nucleotide composition.\n",
    "We also make sure that exons and introns contain no more than 25% ambiguous nucleotide calls."
   ]
  },
  {
   "cell_type": "code",
   "execution_count": 5,
   "metadata": {
    "collapsed": false
   },
   "outputs": [
    {
     "name": "stdout",
     "output_type": "stream",
     "text": [
      "Length_p5\tLength_p95\r\n",
      "65.000000\t1078.000000\r\n"
     ]
    }
   ],
   "source": [
    "./mlr --csv --fs tab stats1 -a p5,p95 -f Length scratch/data/exons.tsv"
   ]
  },
  {
   "cell_type": "markdown",
   "metadata": {},
   "source": [
    "Let's capture these values and store them in variables so we can use them for subsequent commands."
   ]
  },
  {
   "cell_type": "code",
   "execution_count": 6,
   "metadata": {
    "collapsed": false
   },
   "outputs": [
    {
     "name": "stdout",
     "output_type": "stream",
     "text": [
      " 5% quantile: 65.000000\r\n",
      "95% quantile: 1078.000000\r\n"
     ]
    }
   ],
   "source": [
    "p5=$(./mlr --csv --fs tab stats1 -a p5,p95 -f Length scratch/data/exons.tsv | tail -n 1 | cut -f 1)\n",
    "p95=$(./mlr --csv --fs tab stats1 -a p5,p95 -f Length scratch/data/exons.tsv | tail -n 1 | cut -f 2)\n",
    "\n",
    "echo \" 5% quantile: $p5\"\n",
    "echo \"95% quantile: $p95\""
   ]
  },
  {
   "cell_type": "markdown",
   "metadata": {},
   "source": [
    "Now let's feed these in to the filter command.\n",
    "We have to be careful to escape field names and shell variables, since both begin with the dollar sign prefix."
   ]
  },
  {
   "cell_type": "code",
   "execution_count": 7,
   "metadata": {
    "collapsed": false
   },
   "outputs": [
    {
     "name": "stdout",
     "output_type": "stream",
     "text": [
      "GCContent_mean\tGCContent_p50\tGCContent_min\tGCContent_max\r\n",
      "0.372308\t0.355000\t0.074000\t0.801000\r\n",
      "GCContent_mean\tGCContent_p50\tGCContent_min\tGCContent_max\r\n",
      "0.400649\t0.393000\t0.137000\t0.733000\r\n",
      "GCContent_mean\tGCContent_p50\tGCContent_min\tGCContent_max\r\n",
      "0.462224\t0.460000\t0.126000\t0.798000\r\n",
      "GCContent_mean\tGCContent_p50\tGCContent_min\tGCContent_max\r\n",
      "0.417514\t0.409000\t0.162000\t0.747000\r\n",
      "GCContent_mean\tGCContent_p50\tGCContent_min\tGCContent_max\r\n",
      "0.367585\t0.362000\t0.040000\t0.726000\r\n",
      "GCContent_mean\tGCContent_p50\tGCContent_min\tGCContent_max\r\n",
      "0.378159\t0.372000\t0.045000\t0.746000\r\n",
      "GCContent_mean\tGCContent_p50\tGCContent_min\tGCContent_max\r\n",
      "0.457260\t0.449000\t0.149000\t0.791000\r\n"
     ]
    }
   ],
   "source": [
    "for species in Amel Bter Hsal Cflo Pdom Pcan Nvit\n",
    "do\n",
    "    ./mlr --csv --fs tab filter \\\n",
    "          \"\\$Length >= $p5 && \\$Length <= $p95 && \\$NContent < 0.25\" \\\n",
    "          scratch/species/${species}/${species}.exons.tsv \\\n",
    "        | ./mlr --csv --fs tab stats1 -a mean,p50,min,max -f GCContent\n",
    "done"
   ]
  },
  {
   "cell_type": "markdown",
   "metadata": {},
   "source": [
    "We need a bit of cleanup, similar to what we did before."
   ]
  },
  {
   "cell_type": "code",
   "execution_count": 8,
   "metadata": {
    "collapsed": false
   },
   "outputs": [
    {
     "name": "stdout",
     "output_type": "stream",
     "text": [
      "Species\tMean\tMedian\tMin\tMax\r\n",
      "Amel\t0.372308\t0.355000\t0.074000\t0.801000\r\n",
      "Bter\t0.400649\t0.393000\t0.137000\t0.733000\r\n",
      "Hsal\t0.462224\t0.460000\t0.126000\t0.798000\r\n",
      "Cflo\t0.417514\t0.409000\t0.162000\t0.747000\r\n",
      "Pdom\t0.367585\t0.362000\t0.040000\t0.726000\r\n",
      "Pcan\t0.378159\t0.372000\t0.045000\t0.746000\r\n",
      "Nvit\t0.457260\t0.449000\t0.149000\t0.791000\r\n"
     ]
    }
   ],
   "source": [
    "echo $'Species\\tMean\\tMedian\\tMin\\tMax'\n",
    "for species in Amel Bter Hsal Cflo Pdom Pcan Nvit\n",
    "do\n",
    "    echo -n ${species}$'\\t'\n",
    "    ./mlr --csv --fs tab filter \\\n",
    "          \"\\$Length >= $p5 && \\$Length <= $p95 && \\$NContent < 0.25\" \\\n",
    "          scratch/species/${species}/${species}.exons.tsv \\\n",
    "        | ./mlr --csv --fs tab stats1 -a mean,p50,min,max -f GCContent \\\n",
    "        | tail -n 1\n",
    "done"
   ]
  },
  {
   "cell_type": "markdown",
   "metadata": {},
   "source": [
    "Now let's wrap it all up and bring it together to produce the final versions of Table S7-S8."
   ]
  },
  {
   "cell_type": "code",
   "execution_count": 9,
   "metadata": {
    "collapsed": false
   },
   "outputs": [
    {
     "name": "stdout",
     "output_type": "stream",
     "text": [
      "\r\n",
      "\r\n",
      "=====EXONS=====\r\n",
      "\r\n",
      "Length\r\n",
      "Species\tMean\tMedian\tMin\tMax\r\n",
      "Amel\t360.827403\t210.000000\t1.000000\t15394.000000\r\n",
      "Bter\t389.777202\t210.000000\t2.000000\t14946.000000\r\n",
      "Hsal\t339.726871\t206.000000\t2.000000\t18463.000000\r\n",
      "Cflo\t324.612978\t206.000000\t2.000000\t12042.000000\r\n",
      "Pdom\t276.922780\t189.000000\t1.000000\t10835.000000\r\n",
      "Pcan\t320.499481\t201.000000\t2.000000\t11283.000000\r\n",
      "Nvit\t352.794270\t216.000000\t1.000000\t16428.000000\r\n",
      "\r\n",
      "GCContent\r\n",
      "Species\tMean\tMedian\tMin\tMax\r\n",
      "Amel\t0.372308\t0.355000\t0.074000\t0.801000\r\n",
      "Bter\t0.400649\t0.393000\t0.137000\t0.733000\r\n",
      "Hsal\t0.462224\t0.460000\t0.126000\t0.798000\r\n",
      "Cflo\t0.417514\t0.409000\t0.162000\t0.747000\r\n",
      "Pdom\t0.367585\t0.362000\t0.040000\t0.726000\r\n",
      "Pcan\t0.378159\t0.372000\t0.045000\t0.746000\r\n",
      "Nvit\t0.457260\t0.449000\t0.149000\t0.791000\r\n",
      "\r\n",
      "\r\n",
      "=====INTRONS=====\r\n",
      "\r\n",
      "Length\r\n",
      "Species\tMean\tMedian\tMin\tMax\r\n",
      "Amel\t1803.647537\t126.000000\t29.000000\t557153.000000\r\n",
      "Bter\t2089.895993\t129.000000\t1.000000\t564389.000000\r\n",
      "Hsal\t1758.448638\t193.000000\t30.000000\t564989.000000\r\n",
      "Cflo\t1571.713577\t201.000000\t30.000000\t465607.000000\r\n",
      "Pdom\t531.175157\t109.000000\t4.000000\t48311.000000\r\n",
      "Pcan\t603.356998\t106.000000\t21.000000\t94316.000000\r\n",
      "Nvit\t1410.000103\t89.000000\t30.000000\t431041.000000\r\n",
      "\r\n",
      "GCContent\r\n",
      "Species\tMean\tMedian\tMin\tMax\r\n",
      "Amel\t0.193362\t0.167000\t0.018000\t0.734000\r\n",
      "Bter\t0.264278\t0.253000\t0.045000\t0.688000\r\n",
      "Hsal\t0.345122\t0.336000\t0.031000\t0.944000\r\n",
      "Cflo\t0.240256\t0.229000\t0.000000\t0.765000\r\n",
      "Pdom\t0.220876\t0.211000\t0.013000\t0.742000\r\n",
      "Pcan\t0.225167\t0.215000\t0.039000\t0.707000\r\n",
      "Nvit\t0.316285\t0.302000\t0.056000\t0.812000\r\n"
     ]
    }
   ],
   "source": [
    "for featuretype in exons introns\n",
    "do\n",
    "    echo\n",
    "    echo\n",
    "    title=$(echo $featuretype | tr '[:lower:]' '[:upper:]')\n",
    "    echo \"=====${title}=====\"\n",
    "\n",
    "    echo\n",
    "    echo \"Length\"\n",
    "    echo $'Species\\tMean\\tMedian\\tMin\\tMax'\n",
    "    for species in Amel Bter Hsal Cflo Pdom Pcan Nvit\n",
    "    do\n",
    "        echo -n ${species}$'\\t'\n",
    "        ./mlr --csv --fs tab stats1 -a mean,p50,min,max \\\n",
    "              -f Length scratch/species/${species}/${species}.${featuretype}.tsv \\\n",
    "            | tail -n 1\n",
    "    done\n",
    "    \n",
    "    echo\n",
    "    echo \"GCContent\"\n",
    "    echo $'Species\\tMean\\tMedian\\tMin\\tMax'\n",
    "    p5=$(./mlr --csv --fs tab stats1 -a p5,p95 -f Length scratch/data/${featuretype}.tsv | tail -n 1 | cut -f 1)\n",
    "    p95=$(./mlr --csv --fs tab stats1 -a p5,p95 -f Length scratch/data/${featuretype}.tsv | tail -n 1 | cut -f 2)\n",
    "    for species in Amel Bter Hsal Cflo Pdom Pcan Nvit\n",
    "    do\n",
    "        echo -n ${species}$'\\t'\n",
    "        ./mlr --csv --fs tab filter \\\n",
    "              \"\\$Length >= $p5 && \\$Length <= $p95 && \\$NContent < 0.25\" \\\n",
    "              scratch/species/${species}/${species}.${featuretype}.tsv \\\n",
    "            | ./mlr --csv --fs tab stats1 -a mean,p50,min,max -f GCContent \\\n",
    "            | tail -n 1\n",
    "done\n",
    "done"
   ]
  },
  {
   "cell_type": "markdown",
   "metadata": {},
   "source": [
    "That's it!"
   ]
  }
 ],
 "metadata": {
  "kernelspec": {
   "display_name": "Bash",
   "language": "bash",
   "name": "bash"
  },
  "language_info": {
   "codemirror_mode": "shell",
   "file_extension": ".sh",
   "mimetype": "text/x-sh",
   "name": "bash"
  }
 },
 "nbformat": 4,
 "nbformat_minor": 0
}
