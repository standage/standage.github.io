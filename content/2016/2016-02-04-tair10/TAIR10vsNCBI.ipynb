{
 "cells": [
  {
   "cell_type": "markdown",
   "metadata": {},
   "source": [
    "On my slate of work this week is a comparison of two versions of the *Arabidopsis thaliana* genome: the TAIR6 version (2005ish) and the latest TAIR10 version (2010).\n",
    "I figure using [GenHub](https://github.com/standage/genhub) is the best way to make the process of retrieving and pre-processing the data reproducible.\n",
    "I already have a recipe for the *Arabidopsis* genome in GenHub, but it's sourced from RefSeq and not TAIR.\n",
    "I need to figure out if this corresponds to TAIR10.\n",
    "If so, I can save myself some work.\n",
    "If not, I will need to add *two* new recipes to GenHub (TAIR6 and TAIR10) instead of one.\n",
    "\n",
    "A quick look at the [RefSeq assembly report][refseq] shows that the NCBI assembly is in fact the TAIR10 assembly.\n",
    "But what about the annotation?\n",
    "I assume it's also the TAIR10 annotation, but the documenation in that directory doesn't confirm this.\n",
    "Perhaps it's an annotation by NCBI's GNOMON pipeline, or perhaps NCBI made some improvements to the TAIR10 annotation?\n",
    "\n",
    "I was about to search for some more documentation on NCBI, but after a moment's hesitation I decided it would best to settle the question here and now by comparing the RefSeq annotation and the TAIR10 annotation.\n",
    "My first project as a graduate student was comparing different sources of annotation for the same genome, and I later built on this work to publish the [ParsEval program](http://bmcbioinformatics.biomedcentral.com/articles/10.1186/1471-2105-13-187).\n",
    "Using this tool, it should be fairly easy to compare the RefSeq GFF3 with the latest GFF3 from TAIR and determine if they're the same.\n",
    "\n",
    "[refseq]: ftp://ftp.ncbi.nlm.nih.gov/genomes/refseq/plant/Arabidopsis_thaliana/all_assembly_versions/GCF_000001735.3_TAIR10/GCF_000001735.3_TAIR10_assembly_report.txt"
   ]
  },
  {
   "cell_type": "markdown",
   "metadata": {},
   "source": [
    "## TAIR\n",
    "\n",
    "First, let's take a look at the latest annotation from TAIR.\n",
    "I followed the `Download --> FTP Archive` link on the [TAIR homepage](https://www.arabidopsis.org/) to their FTP site, and poked around until I found the URL of the appropriate GFF3 file."
   ]
  },
  {
   "cell_type": "code",
   "execution_count": 1,
   "metadata": {
    "collapsed": false
   },
   "outputs": [
    {
     "name": "stdout",
     "output_type": "stream",
     "text": [
      "--2016-02-04 21:15:05--  ftp://ftp.arabidopsis.org/home/tair/Genes/TAIR10_genome_release/TAIR10_gff3/TAIR10_GFF3_genes.gff\r\n",
      "           => 'TAIR10_GFF3_genes.gff'\r\n",
      "Resolving ftp.arabidopsis.org... 129.114.60.67\r\n",
      "Connecting to ftp.arabidopsis.org|129.114.60.67|:21... connected.\r\n",
      "Logging in as anonymous ... Logged in!\r\n",
      "==> SYST ... done.    ==> PWD ... done.\r\n",
      "==> TYPE I ... done.  ==> CWD (1) /home/tair/Genes/TAIR10_genome_release/TAIR10_gff3 ... done.\r\n",
      "==> SIZE TAIR10_GFF3_genes.gff ... 44139005\r\n",
      "==> PASV ... done.    ==> RETR TAIR10_GFF3_genes.gff ... done.\r\n",
      "Length: 44139005 (42M) (unauthoritative)\r\n",
      "\r\n",
      "\r",
      "TAIR10_GFF3_genes.g   0%[                    ]       0  --.-KB/s               \r",
      "TAIR10_GFF3_genes.g   0%[                    ]  75.31K   376KB/s               \r",
      "TAIR10_GFF3_genes.g   0%[                    ] 198.34K   488KB/s               \r",
      "TAIR10_GFF3_genes.g   0%[                    ] 342.57K   564KB/s               \r",
      "TAIR10_GFF3_genes.g   1%[                    ] 483.98K   587KB/s               \r",
      "TAIR10_GFF3_genes.g   1%[                    ] 687.60K   668KB/s               \r",
      "TAIR10_GFF3_genes.g   2%[                    ] 919.51K   743KB/s               \r",
      "TAIR10_GFF3_genes.g   2%[                    ]   1.17M   831KB/s               \r",
      "TAIR10_GFF3_genes.g   3%[                    ]   1.46M   905KB/s               \r",
      "TAIR10_GFF3_genes.g   4%[                    ]   1.77M   975KB/s               \r",
      "TAIR10_GFF3_genes.g   5%[>                   ]   2.14M  1.04MB/s               \r",
      "TAIR10_GFF3_genes.g   6%[>                   ]   2.59M  1.14MB/s               \r",
      "TAIR10_GFF3_genes.g   7%[>                   ]   3.09M  1.25MB/s               \r",
      "TAIR10_GFF3_genes.g   8%[>                   ]   3.66M  1.37MB/s               \r",
      "TAIR10_GFF3_genes.g  10%[=>                  ]   4.26M  1.49MB/s               \r",
      "TAIR10_GFF3_genes.g  11%[=>                  ]   4.78M  1.56MB/s    eta 24s    \r",
      "TAIR10_GFF3_genes.g  12%[=>                  ]   5.44M  1.66MB/s    eta 24s    \r",
      "TAIR10_GFF3_genes.g  14%[=>                  ]   6.09M  1.90MB/s    eta 24s    \r",
      "TAIR10_GFF3_genes.g  16%[==>                 ]   6.80M  2.07MB/s    eta 24s    \r",
      "TAIR10_GFF3_genes.g  17%[==>                 ]   7.52M  2.23MB/s    eta 24s    \r",
      "TAIR10_GFF3_genes.g  19%[==>                 ]   8.23M  2.45MB/s    eta 17s    \r",
      "TAIR10_GFF3_genes.g  21%[===>                ]   8.89M  2.56MB/s    eta 17s    \r",
      "TAIR10_GFF3_genes.g  22%[===>                ]   9.65M  2.71MB/s    eta 17s    \r",
      "TAIR10_GFF3_genes.g  24%[===>                ]  10.36M  2.89MB/s    eta 17s    \r",
      "TAIR10_GFF3_genes.g  26%[====>               ]  11.08M  2.96MB/s    eta 17s    \r",
      "TAIR10_GFF3_genes.g  28%[====>               ]  11.84M  3.15MB/s    eta 13s    \r",
      "TAIR10_GFF3_genes.g  29%[====>               ]  12.55M  3.21MB/s    eta 13s    \r",
      "TAIR10_GFF3_genes.g  31%[=====>              ]  13.26M  3.28MB/s    eta 13s    \r",
      "TAIR10_GFF3_genes.g  33%[=====>              ]  13.94M  3.34MB/s    eta 13s    \r",
      "TAIR10_GFF3_genes.g  34%[=====>              ]  14.71M  3.39MB/s    eta 13s    \r",
      "TAIR10_GFF3_genes.g  36%[======>             ]  15.39M  3.39MB/s    eta 11s    \r",
      "TAIR10_GFF3_genes.g  38%[======>             ]  16.13M  3.46MB/s    eta 11s    \r",
      "TAIR10_GFF3_genes.g  40%[=======>            ]  16.85M  3.50MB/s    eta 11s    \r",
      "TAIR10_GFF3_genes.g  41%[=======>            ]  17.58M  3.49MB/s    eta 11s    \r",
      "TAIR10_GFF3_genes.g  43%[=======>            ]  18.32M  3.48MB/s    eta 11s    \r",
      "TAIR10_GFF3_genes.g  45%[========>           ]  19.04M  3.53MB/s    eta 9s     \r",
      "TAIR10_GFF3_genes.g  46%[========>           ]  19.77M  3.52MB/s    eta 9s     \r",
      "TAIR10_GFF3_genes.g  48%[========>           ]  20.47M  3.51MB/s    eta 9s     \r",
      "TAIR10_GFF3_genes.g  50%[=========>          ]  21.21M  3.52MB/s    eta 9s     \r",
      "TAIR10_GFF3_genes.g  52%[=========>          ]  21.92M  3.57MB/s    eta 9s     \r",
      "TAIR10_GFF3_genes.g  53%[=========>          ]  22.62M  3.55MB/s    eta 7s     \r",
      "TAIR10_GFF3_genes.g  55%[==========>         ]  23.34M  3.56MB/s    eta 7s     \r",
      "TAIR10_GFF3_genes.g  57%[==========>         ]  24.06M  3.55MB/s    eta 7s     \r",
      "TAIR10_GFF3_genes.g  58%[==========>         ]  24.77M  3.57MB/s    eta 7s     \r",
      "TAIR10_GFF3_genes.g  60%[===========>        ]  25.48M  3.55MB/s    eta 7s     \r",
      "TAIR10_GFF3_genes.g  62%[===========>        ]  26.19M  3.55MB/s    eta 6s     \r",
      "TAIR10_GFF3_genes.g  63%[===========>        ]  26.90M  3.55MB/s    eta 6s     \r",
      "TAIR10_GFF3_genes.g  65%[============>       ]  27.61M  3.55MB/s    eta 6s     \r",
      "TAIR10_GFF3_genes.g  67%[============>       ]  28.32M  3.55MB/s    eta 6s     \r",
      "TAIR10_GFF3_genes.g  68%[============>       ]  29.03M  3.55MB/s    eta 6s     \r",
      "TAIR10_GFF3_genes.g  70%[=============>      ]  29.75M  3.56MB/s    eta 4s     \r",
      "TAIR10_GFF3_genes.g  72%[=============>      ]  30.46M  3.55MB/s    eta 4s     \r",
      "TAIR10_GFF3_genes.g  74%[=============>      ]  31.19M  3.56MB/s    eta 4s     \r",
      "TAIR10_GFF3_genes.g  75%[==============>     ]  31.90M  3.55MB/s    eta 4s     \r",
      "TAIR10_GFF3_genes.g  77%[==============>     ]  32.61M  3.56MB/s    eta 4s     \r",
      "TAIR10_GFF3_genes.g  79%[==============>     ]  33.32M  3.55MB/s    eta 3s     \r",
      "TAIR10_GFF3_genes.g  80%[===============>    ]  34.03M  3.55MB/s    eta 3s     \r",
      "TAIR10_GFF3_genes.g  82%[===============>    ]  34.75M  3.55MB/s    eta 3s     \r",
      "TAIR10_GFF3_genes.g  84%[===============>    ]  35.46M  3.55MB/s    eta 3s     \r",
      "TAIR10_GFF3_genes.g  85%[================>   ]  36.16M  3.55MB/s    eta 3s     \r",
      "TAIR10_GFF3_genes.g  87%[================>   ]  36.88M  3.55MB/s    eta 2s     \r",
      "TAIR10_GFF3_genes.g  89%[================>   ]  37.60M  3.55MB/s    eta 2s     \r",
      "TAIR10_GFF3_genes.g  91%[=================>  ]  38.33M  3.55MB/s    eta 2s     \r",
      "TAIR10_GFF3_genes.g  92%[=================>  ]  39.06M  3.55MB/s    eta 2s     \r",
      "TAIR10_GFF3_genes.g  94%[=================>  ]  39.78M  3.55MB/s    eta 2s     \r",
      "TAIR10_GFF3_genes.g  96%[==================> ]  40.51M  3.55MB/s    eta 1s     \r",
      "TAIR10_GFF3_genes.g  97%[==================> ]  41.24M  3.56MB/s    eta 1s     \r",
      "TAIR10_GFF3_genes.g  99%[==================> ]  41.95M  3.55MB/s    eta 1s     \r",
      "TAIR10_GFF3_genes.g 100%[===================>]  42.09M  3.55MB/s    in 14s     \r\n",
      "\r\n",
      "2016-02-04 21:15:24 (3.08 MB/s) - 'TAIR10_GFF3_genes.gff' saved [44139005]\r\n",
      "\r\n"
     ]
    }
   ],
   "source": [
    "wget ftp://ftp.arabidopsis.org/home/tair/Genes/TAIR10_genome_release/TAIR10_gff3/TAIR10_GFF3_genes.gff"
   ]
  },
  {
   "cell_type": "markdown",
   "metadata": {},
   "source": [
    "The file is uncompressed, so a simple `head` command will give us a look at the first few lines."
   ]
  },
  {
   "cell_type": "code",
   "execution_count": 2,
   "metadata": {
    "collapsed": false
   },
   "outputs": [
    {
     "name": "stdout",
     "output_type": "stream",
     "text": [
      "Chr1\tTAIR10\tchromosome\t1\t30427671\t.\t.\t.\tID=Chr1;Name=Chr1\r\n",
      "Chr1\tTAIR10\tgene\t3631\t5899\t.\t+\t.\tID=AT1G01010;Note=protein_coding_gene;Name=AT1G01010\r\n",
      "Chr1\tTAIR10\tmRNA\t3631\t5899\t.\t+\t.\tID=AT1G01010.1;Parent=AT1G01010;Name=AT1G01010.1;Index=1\r\n",
      "Chr1\tTAIR10\tprotein\t3760\t5630\t.\t+\t.\tID=AT1G01010.1-Protein;Name=AT1G01010.1;Derives_from=AT1G01010.1\r\n",
      "Chr1\tTAIR10\texon\t3631\t3913\t.\t+\t.\tParent=AT1G01010.1\r\n",
      "Chr1\tTAIR10\tfive_prime_UTR\t3631\t3759\t.\t+\t.\tParent=AT1G01010.1\r\n",
      "Chr1\tTAIR10\tCDS\t3760\t3913\t.\t+\t0\tParent=AT1G01010.1,AT1G01010.1-Protein;\r\n",
      "Chr1\tTAIR10\texon\t3996\t4276\t.\t+\t.\tParent=AT1G01010.1\r\n",
      "Chr1\tTAIR10\tCDS\t3996\t4276\t.\t+\t2\tParent=AT1G01010.1,AT1G01010.1-Protein;\r\n",
      "Chr1\tTAIR10\texon\t4486\t4605\t.\t+\t.\tParent=AT1G01010.1\r\n"
     ]
    }
   ],
   "source": [
    "head TAIR10_GFF3_genes.gff"
   ]
  },
  {
   "cell_type": "markdown",
   "metadata": {},
   "source": [
    "It looks like TAIR doesn't use `##sequence-region` pragmas or any other metadata, just basic feature entries with 9 tab-delimited values.\n",
    "Let's take a look at how the sequences are labeled by cutting out the first column of each entry and then pulling out unique values."
   ]
  },
  {
   "cell_type": "code",
   "execution_count": 3,
   "metadata": {
    "collapsed": false
   },
   "outputs": [
    {
     "name": "stdout",
     "output_type": "stream",
     "text": [
      "Chr1\r\n",
      "Chr2\r\n",
      "Chr3\r\n",
      "Chr4\r\n",
      "Chr5\r\n",
      "ChrC\r\n",
      "ChrM\r\n"
     ]
    }
   ],
   "source": [
    "cut -f 1 TAIR10_GFF3_genes.gff | sort -u"
   ]
  },
  {
   "cell_type": "markdown",
   "metadata": {},
   "source": [
    "I'm not really interested in organellar genomes, and the way they're annotated (especially by NCBI) is often problematic.\n",
    "Let's go ahead and remove the chloroplast genome and the mitochondrial genome from the GFF3 file, leaving the 5 chromosomes of the nuclear genome."
   ]
  },
  {
   "cell_type": "code",
   "execution_count": 4,
   "metadata": {
    "collapsed": false
   },
   "outputs": [
    {
     "name": "stdout",
     "output_type": "stream",
     "text": []
    }
   ],
   "source": [
    "grep -v -e '^ChrM' -e '^ChrC' TAIR10_GFF3_genes.gff > tair10.gff3"
   ]
  },
  {
   "cell_type": "markdown",
   "metadata": {},
   "source": [
    "## NCBI/RefSeq\n",
    "\n",
    "The [NCBI FTP site](ftp://ftp.ncbi.nlm.nih.gov/genomes/refseq) is a bit easier to navigate.\n",
    "Once you locate the `/genomes/refseq/` directory, finding the *Arabidopsis* data is trivial: `plant/ --> Arabidopsis_thaliana --> all_assembly_versions`."
   ]
  },
  {
   "cell_type": "code",
   "execution_count": 5,
   "metadata": {
    "collapsed": false
   },
   "outputs": [
    {
     "name": "stdout",
     "output_type": "stream",
     "text": [
      "--2016-02-04 21:15:32--  ftp://ftp.ncbi.nlm.nih.gov/genomes/refseq/plant/Arabidopsis_thaliana/all_assembly_versions/GCF_000001735.3_TAIR10/GCF_000001735.3_TAIR10_genomic.gff.gz\r\n",
      "           => 'GCF_000001735.3_TAIR10_genomic.gff.gz'\r\n",
      "Resolving ftp.ncbi.nlm.nih.gov... 130.14.250.13, 2607:f220:41e:250::13\r\n",
      "Connecting to ftp.ncbi.nlm.nih.gov|130.14.250.13|:21... connected.\r\n",
      "Logging in as anonymous ... Logged in!\r\n",
      "==> SYST ... done.    ==> PWD ... done.\r\n",
      "==> TYPE I ... done.  ==> CWD (1) /genomes/refseq/plant/Arabidopsis_thaliana/all_assembly_versions/GCF_000001735.3_TAIR10 ... done.\r\n",
      "==> SIZE GCF_000001735.3_TAIR10_genomic.gff.gz ... 12647493\r\n",
      "==> PASV ... done.    ==> RETR GCF_000001735.3_TAIR10_genomic.gff.gz ... done.\r\n",
      "Length: 12647493 (12M) (unauthoritative)\r\n",
      "\r\n",
      "\r",
      "          GCF_00000   0%[                    ]       0  --.-KB/s               \r",
      "         GCF_000001   1%[                    ] 134.34K   625KB/s               \r",
      "        GCF_0000017   5%[>                   ] 714.10K  1.68MB/s               \r",
      "       GCF_00000173  11%[=>                  ]   1.41M  2.28MB/s               \r",
      "      GCF_000001735  17%[==>                 ]   2.13M  2.60MB/s               \r",
      "     GCF_000001735.  23%[===>                ]   2.85M  2.79MB/s               \r",
      "    GCF_000001735.3  29%[====>               ]   3.57M  2.92MB/s               \r",
      "   GCF_000001735.3_  35%[======>             ]   4.28M  3.01MB/s               \r",
      "  GCF_000001735.3_T  41%[=======>            ]   4.99M  3.08MB/s               \r",
      " GCF_000001735.3_TA  47%[========>           ]   5.70M  3.13MB/s               \r",
      "GCF_000001735.3_TAI  53%[=========>          ]   6.42M  3.17MB/s               \r",
      "CF_000001735.3_TAIR  58%[==========>         ]   7.11M  3.20MB/s               \r",
      "F_000001735.3_TAIR1  64%[===========>        ]   7.84M  3.24MB/s               \r",
      "_000001735.3_TAIR10  70%[=============>      ]   8.53M  3.25MB/s               \r",
      "000001735.3_TAIR10_  76%[==============>     ]   9.26M  3.27MB/s               \r",
      "00001735.3_TAIR10_g  82%[===============>    ]  10.01M  3.29MB/s    eta 1s     \r",
      "0001735.3_TAIR10_ge  89%[================>   ]  10.76M  3.48MB/s    eta 1s     \r",
      "001735.3_TAIR10_gen  95%[==================> ]  11.47M  3.55MB/s    eta 1s     \r",
      "GCF_000001735.3_TAI 100%[===================>]  12.06M  3.56MB/s    in 3.6s    \r\n",
      "\r\n",
      "2016-02-04 21:15:37 (3.34 MB/s) - 'GCF_000001735.3_TAIR10_genomic.gff.gz' saved [12647493]\r\n",
      "\r\n"
     ]
    }
   ],
   "source": [
    "wget ftp://ftp.ncbi.nlm.nih.gov/genomes/refseq/plant/Arabidopsis_thaliana/all_assembly_versions/GCF_000001735.3_TAIR10/GCF_000001735.3_TAIR10_genomic.gff.gz"
   ]
  },
  {
   "cell_type": "markdown",
   "metadata": {},
   "source": [
    "This file is compressed, so we combine `head` with `gunzip` to take a quick peak."
   ]
  },
  {
   "cell_type": "code",
   "execution_count": 6,
   "metadata": {
    "collapsed": false
   },
   "outputs": [
    {
     "name": "stdout",
     "output_type": "stream",
     "text": [
      "##gff-version 3\r\n",
      "#!gff-spec-version 1.21\r\n",
      "#!processor NCBI annotwriter\r\n",
      "#!genome-build TAIR10\r\n",
      "#!genome-build-accession NCBI_Assembly:GCF_000001735.3\r\n",
      "##sequence-region NC_003070.9 1 30427671\r\n",
      "##species http://www.ncbi.nlm.nih.gov/Taxonomy/Browser/wwwtax.cgi?id=3702\r\n",
      "NC_003070.9\tRefSeq\tregion\t1\t30427671\t.\t+\t.\tID=id0;Dbxref=taxon:3702;Name=1;chromosome=1;ecotype=Columbia;gbkey=Src;genome=chromosome;mol_type=genomic DNA\r\n",
      "NC_003070.9\tRefSeq\tgene\t3631\t5899\t.\t+\t.\tID=gene0;Dbxref=GeneID:839580,TAIR:AT1G01010;Name=NAC001;gbkey=Gene;gene=NAC001;gene_biotype=protein_coding;gene_synonym=ANAC001,NAC domain containing protein 1,NAC001,T25K16.1,T25K16_1;locus_tag=AT1G01010\r\n",
      "NC_003070.9\tRefSeq\tmRNA\t3631\t5899\t.\t+\t.\tID=rna0;Parent=gene0;Dbxref=Genbank:NM_099983.2,GeneID:839580,TAIR:AT1G01010;Name=NM_099983.2;gbkey=mRNA;gene=NAC001;product=NAC domain-containing protein 1;transcript_id=NM_099983.2\r\n"
     ]
    }
   ],
   "source": [
    "gunzip -c GCF_000001735.3_TAIR10_genomic.gff.gz | head"
   ]
  },
  {
   "cell_type": "markdown",
   "metadata": {},
   "source": [
    "It looks like the RefSeq GFF3 file refers to the chromosome sequences by their accession number rather than the simple *Chr1*-style labels used by TAIR.\n",
    "If we want to compare this data to the TAIR data, we'll need to convert these accession numbers to chromosome numbers.\n",
    "It looks like `region` entries with a `chromosome` attribute give us the mapping we need to do the conversion."
   ]
  },
  {
   "cell_type": "code",
   "execution_count": 7,
   "metadata": {
    "collapsed": false
   },
   "outputs": [
    {
     "name": "stdout",
     "output_type": "stream",
     "text": [
      "NC_003070.9\tRefSeq\tregion\t1\t30427671\t.\t+\t.\tID=id0;Dbxref=taxon:3702;Name=1;chromosome=1;ecotype=Columbia;gbkey=Src;genome=chromosome;mol_type=genomic DNA\r\n",
      "NC_003071.7\tRefSeq\tregion\t1\t19698289\t.\t+\t.\tID=id57764;Dbxref=taxon:3702;Name=2;chromosome=2;ecotype=Columbia;gbkey=Src;genome=chromosome;mol_type=genomic DNA\r\n",
      "NC_003074.8\tRefSeq\tregion\t1\t23459830\t.\t+\t.\tID=id90805;Dbxref=taxon:3702;Name=3;chromosome=3;ecotype=Columbia;gbkey=Src;genome=chromosome;mol_type=genomic DNA\r\n",
      "NC_003075.7\tRefSeq\tregion\t1\t18585056\t.\t+\t.\tID=id131785;Dbxref=taxon:3702;Name=4;chromosome=4;ecotype=Columbia;gbkey=Src;genome=chromosome;mol_type=genomic DNA\r\n",
      "NC_003076.8\tRefSeq\tregion\t1\t26975502\t.\t+\t.\tID=id164622;Dbxref=taxon:3702;Name=5;chromosome=5;ecotype=Columbia;gbkey=Src;genome=chromosome;mol_type=genomic DNA\r\n"
     ]
    }
   ],
   "source": [
    "gunzip -c GCF_000001735.3_TAIR10_genomic.gff.gz \\\n",
    "    | grep $'\\tregion\\t' \\\n",
    "    | grep 'chromosome='"
   ]
  },
  {
   "cell_type": "markdown",
   "metadata": {},
   "source": [
    "I also know (based on personal experience) that trans-spliced genes can cause issues with ParsEval and the GenomeTools  library it links to.\n",
    "Let's check whether there are any trans-spliced genes annotated in this file."
   ]
  },
  {
   "cell_type": "code",
   "execution_count": 8,
   "metadata": {
    "collapsed": false
   },
   "outputs": [
    {
     "name": "stdout",
     "output_type": "stream",
     "text": [
      "NC_001284.2\tRefSeq\tgene\t79740\t81297\t.\t-\t.\tID=gene33323;Dbxref=GeneID:3371312;Name=nad2;exception=trans-splicing;gbkey=Gene;gene=nad2;gene_biotype=protein_coding;locus_tag=ArthMp026;part=1/2\r\n",
      "NC_001284.2\tRefSeq\tgene\t327890\t333105\t.\t-\t.\tID=gene33323;Dbxref=GeneID:3371312;Name=nad2;exception=trans-splicing;gbkey=Gene;gene=nad2;gene_biotype=protein_coding;locus_tag=ArthMp026;part=2/2\r\n",
      "NC_001284.2\tRefSeq\tgene\t20571\t190761\t.\t-\t.\tID=gene33329;Dbxref=GeneID:3371313;Name=nad5;exception=trans-splicing;gbkey=Gene;gene=nad5;gene_biotype=protein_coding;locus_tag=ArthMp006\r\n",
      "NC_001284.2\tRefSeq\tgene\t143219\t318390\t.\t-\t.\tID=gene33375;Dbxref=GeneID:3890477;Name=nad1;exception=trans-splicing;gbkey=Gene;gene=nad1;gene_biotype=protein_coding;locus_tag=ArthMp044\r\n",
      "NC_000932.1\tRefSeq\tgene\t69611\t69724\t.\t-\t.\tID=gene33454;Dbxref=GeneID:1466250;Name=rps12;exception=trans-splicing;gbkey=Gene;gene=rps12;gene_biotype=protein_coding;locus_tag=ArthCp001;part=1/2\r\n",
      "NC_000932.1\tRefSeq\tgene\t97999\t98793\t.\t-\t.\tID=gene33454;Dbxref=GeneID:1466250;Name=rps12;exception=trans-splicing;gbkey=Gene;gene=rps12;gene_biotype=protein_coding;locus_tag=ArthCp001;part=2/2\r\n",
      "NC_000932.1\tRefSeq\tgene\t69611\t69724\t.\t-\t.\tID=gene33521;Dbxref=GeneID:844801;Name=rps12;exception=trans-splicing;gbkey=Gene;gene=rps12;gene_biotype=protein_coding;locus_tag=ArthCp047;part=1/2\r\n",
      "NC_000932.1\tRefSeq\tgene\t139856\t140650\t.\t+\t.\tID=gene33521;Dbxref=GeneID:844801;Name=rps12;exception=trans-splicing;gbkey=Gene;gene=rps12;gene_biotype=protein_coding;locus_tag=ArthCp047;part=2/2\r\n"
     ]
    }
   ],
   "source": [
    "gunzip -c GCF_000001735.3_TAIR10_genomic.gff.gz \\\n",
    "    | grep $'\\tgene\\t' \\\n",
    "    | grep 'trans-splicing'"
   ]
  },
  {
   "cell_type": "markdown",
   "metadata": {},
   "source": [
    "There are indeed a few.\n",
    "So, in addition to converting sequence accession numbers to chromosome numbers, we need to filter out these trans-spliced genes so that they don't cause trouble for our comparison."
   ]
  },
  {
   "cell_type": "code",
   "execution_count": 9,
   "metadata": {
    "collapsed": false
   },
   "outputs": [
    {
     "name": "stdout",
     "output_type": "stream",
     "text": []
    }
   ],
   "source": [
    "gunzip -c GCF_000001735.3_TAIR10_genomic.gff.gz \\\n",
    "    | sed -e 's/NC_003070.9/Chr1/' \\\n",
    "          -e 's/NC_003071.7/Chr2/' \\\n",
    "          -e 's/NC_003074.8/Chr3/' \\\n",
    "          -e 's/NC_003075.7/Chr4/' \\\n",
    "          -e 's/NC_003076.8/Chr5/' \\\n",
    "    | grep -v -e 'GeneID:1466250' \\\n",
    "              -e 'GeneID:3371312' \\\n",
    "              -e 'GeneID:3371313' \\\n",
    "              -e 'GeneID:3890477' \\\n",
    "              -e 'GeneID:844801' \\\n",
    "    > ncbi.gff3"
   ]
  },
  {
   "cell_type": "markdown",
   "metadata": {},
   "source": [
    "Now we should be ready to compare the two annotations using ParsEval.\n",
    "Let's use the `--summary` flag to suppress the locus-level reports and print out only the aggregate report."
   ]
  },
  {
   "cell_type": "code",
   "execution_count": 10,
   "metadata": {
    "collapsed": false
   },
   "outputs": [
    {
     "name": "stdout",
     "output_type": "stream",
     "text": [
      "============================================================\r\n",
      "========== ParsEval Summary\r\n",
      "============================================================\r\n",
      "\r\n",
      "Started:                04 Feb 2016, 09:16PM\r\n",
      "Reference annotations:  tair10.gff3\r\n",
      "Prediction annotations: ncbi.gff3\r\n",
      "Executing command:      parseval --summary tair10.gff3 ncbi.gff3 \r\n",
      "\r\n",
      "  Sequences compared\r\n",
      "    Chr1\r\n",
      "    Chr2\r\n",
      "    Chr3\r\n",
      "    Chr4\r\n",
      "    Chr5\r\n",
      "    NC_000932.1\r\n",
      "    NC_001284.2\r\n",
      "\r\n",
      "  Gene loci................................25468\r\n",
      "    shared.................................25468\r\n",
      "    unique to reference....................0\r\n",
      "    unique to prediction...................0\r\n",
      "\r\n",
      "  Reference annotations\r\n",
      "    genes..................................27206\r\n",
      "      average per locus....................1.068\r\n",
      "    transcripts............................35176\r\n",
      "      average per locus....................1.381\r\n",
      "      average per gene.....................1.293\r\n",
      "\r\n",
      "  Prediction annotations\r\n",
      "    genes..................................27202\r\n",
      "      average per locus....................1.068\r\n",
      "    transcripts............................35173\r\n",
      "      average per locus....................1.381\r\n",
      "      average per gene.....................1.293\r\n",
      "\r\n",
      "  Total comparisons........................35078\r\n",
      "    perfect matches........................35031 (99.9%)\r\n",
      "      avg. length..........................2683.72 bp\r\n",
      "      avg. # refr exons....................5.91\r\n",
      "      avg. # pred exons....................5.91\r\n",
      "      avg. refr CDS length.................412.90 aa\r\n",
      "      avg. pred CDS length.................412.90 aa\r\n",
      "    perfect matches with mislabeled UTRs...0 (0.0%)\r\n",
      "    CDS structure matches..................47 (0.1%)\r\n",
      "      avg. length..........................2981.28 bp\r\n",
      "      avg. # refr exons....................4.34\r\n",
      "      avg. # pred exons....................1.17\r\n",
      "      avg. refr CDS length.................39.26 aa\r\n",
      "      avg. pred CDS length.................39.26 aa\r\n",
      "    exon structure matches.................0 (0.0%)\r\n",
      "    UTR structure matches..................0 (0.0%)\r\n",
      "    non-matches............................0 (0.0%)\r\n",
      "\r\n",
      "  CDS structure comparison\r\n",
      "    reference CDS segments.................196913\r\n",
      "      match prediction.....................196913 (100.0%)\r\n",
      "      don't match prediction...............0 (0.0%)\r\n",
      "    prediction CDS segments................196913\r\n",
      "      match reference......................196913 (100.0%)\r\n",
      "      don't match reference................0 (0.0%)\r\n",
      "    Sensitivity............................1.000\r\n",
      "    Specificity............................1.000\r\n",
      "    F1 Score...............................1.000\r\n",
      "    Annotation edit distance...............0.000\r\n",
      "\r\n",
      "  Exon structure comparison\r\n",
      "    reference exons........................207206\r\n",
      "      match prediction.....................207004 (99.9%)\r\n",
      "      don't match prediction...............202 (0.1%)\r\n",
      "    prediction exons.......................207057\r\n",
      "      match reference......................207004 (100.0%)\r\n",
      "      don't match reference................53 (0.0%)\r\n",
      "    Sensitivity............................0.999\r\n",
      "    Specificity............................1.000\r\n",
      "    F1 Score...............................0.999\r\n",
      "    Annotation edit distance...............0.001\r\n",
      "\r\n",
      "  UTR structure comparison\r\n",
      "    reference UTR segments.................65233\r\n",
      "      match prediction.....................64991 (99.6%)\r\n",
      "      don't match prediction...............242 (0.4%)\r\n",
      "    prediction UTR segments................64992\r\n",
      "      match reference......................64991 (100.0%)\r\n",
      "      don't match reference................1 (0.0%)\r\n",
      "    Sensitivity............................0.996\r\n",
      "    Specificity............................1.000\r\n",
      "    F1 Score...............................0.998\r\n",
      "    Annotation edit distance...............0.002\r\n",
      "\r\n",
      "  Nucleotide-level comparison      CDS          UTRs         Overall   \r\n",
      "    Matching coefficient:          1.000        0.999        0.999\r\n",
      "    Correlation coefficient:       1.000        0.996        --        \r\n",
      "    Sensitivity:                   1.000        0.992        --        \r\n",
      "    Specificity:                   1.000        1.000        --        \r\n",
      "    F1 Score:                      1.000        0.996        --        \r\n",
      "    Annotation edit distance:      0.000        0.004        --        \r\n"
     ]
    }
   ],
   "source": [
    "parseval --summary tair10.gff3 ncbi.gff3 2> stderr.txt"
   ]
  },
  {
   "cell_type": "markdown",
   "metadata": {},
   "source": [
    "Well, other than a couple hundred UTRs that RefSeq appears to have trimmed, the annotations are identical.\n",
    "That's good enough for me!\n",
    "I'll add a recipe for TAIR6 to GenHub, and use the existing RefSeq recipe for TAIR10."
   ]
  }
 ],
 "metadata": {
  "kernelspec": {
   "display_name": "Bash",
   "language": "bash",
   "name": "bash"
  },
  "language_info": {
   "codemirror_mode": "shell",
   "file_extension": ".sh",
   "mimetype": "text/x-sh",
   "name": "bash"
  }
 },
 "nbformat": 4,
 "nbformat_minor": 0
}
