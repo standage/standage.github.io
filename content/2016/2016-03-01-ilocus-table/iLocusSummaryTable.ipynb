{
 "cells": [
  {
   "cell_type": "markdown",
   "metadata": {},
   "source": [
    "Tonight I created the following table for my iLocus paper.\n",
    "\n",
    "<img alt=\"iLocus summary table\" src=\"./images/ilocus-table-20160301.png\" style=\"width: 500px; margin: 40px 0\" />\n",
    "\n",
    "The purpose of this notebook entry is to document the commands used to populate the table while everything is still fresh in my head.\n",
    "The annotation files were created using [GenHub v0.3.1](https://standage.github.io/genhub).\n",
    "\n",
    "```bash\n",
    "genhub-build.py --workdir=species \\\n",
    "                --genome=Am10,Am32,Att6,Atha \\\n",
    "                --numprocs=4 \\\n",
    "                download format prepare\n",
    "```"
   ]
  },
  {
   "cell_type": "code",
   "execution_count": 1,
   "metadata": {
    "collapsed": false
   },
   "outputs": [
    {
     "name": "stdout",
     "output_type": "stream",
     "text": []
    }
   ],
   "source": [
    "# The input files\n",
    "annotfiles=\"species/Att6/Att6.iloci.gff3 species/Atha/Atha.iloci.gff3\n",
    "            species/Am10/Am10.iloci.gff3 species/Am32/Am32.iloci.gff3\""
   ]
  },
  {
   "cell_type": "code",
   "execution_count": 2,
   "metadata": {
    "collapsed": false
   },
   "outputs": [
    {
     "name": "stdout",
     "output_type": "stream",
     "text": [
      "119186497\r\n",
      "119146348\r\n",
      "228567597\r\n",
      "234070657\r\n"
     ]
    }
   ],
   "source": [
    "# First row of the table: genome size\n",
    "for file in $annotfiles; do\n",
    "    grep '^##sequence-region' $file | awk '{ sum += $4 } END { print sum }'\n",
    "done"
   ]
  },
  {
   "cell_type": "code",
   "execution_count": 3,
   "metadata": {
    "collapsed": false
   },
   "outputs": [
    {
     "name": "stdout",
     "output_type": "stream",
     "text": [
      "5\r\n",
      "5\r\n",
      "7655\r\n",
      "5644\r\n"
     ]
    }
   ],
   "source": [
    "# Second row: sequence count\n",
    "for file in $annotfiles; do\n",
    "    grep -c '^##sequence-region' $file\n",
    "done"
   ]
  },
  {
   "cell_type": "code",
   "execution_count": 4,
   "metadata": {
    "collapsed": false
   },
   "outputs": [
    {
     "name": "stdout",
     "output_type": "stream",
     "text": [
      "26541\r\n",
      "27202\r\n",
      "10157\r\n",
      "15314\r\n"
     ]
    }
   ],
   "source": [
    "# Third row: gene count\n",
    "for file in $annotfiles; do\n",
    "     grep $'\\tmRNA\\t' $file \\\n",
    "         | perl -ne 'm/Parent=([^;\\n]+)/ and print \"$1\\n\"' \\\n",
    "         | sort -u \\\n",
    "         | wc -l \\\n",
    "         | tr -d ' '\n",
    "done"
   ]
  },
  {
   "cell_type": "code",
   "execution_count": 5,
   "metadata": {
    "collapsed": false
   },
   "outputs": [
    {
     "name": "stdout",
     "output_type": "stream",
     "text": [
      "CDS\r\n",
      "exon\r\n",
      "five_prime_UTR\r\n",
      "gene\r\n",
      "locus\r\n",
      "mRNA\r\n",
      "miRNA\r\n",
      "ncRNA\r\n",
      "rRNA\r\n",
      "snRNA\r\n",
      "snoRNA\r\n",
      "tRNA\r\n",
      "three_prime_UTR\r\n",
      "transcript\r\n"
     ]
    }
   ],
   "source": [
    "# Determine all annotated feature types so we can test for all\n",
    "# ncRNA types.\n",
    "cat $annotfiles | grep -v '^#' | cut -f 3 | sort -u"
   ]
  },
  {
   "cell_type": "code",
   "execution_count": 6,
   "metadata": {
    "collapsed": false
   },
   "outputs": [
    {
     "name": "stdout",
     "output_type": "stream",
     "text": [
      "769\r\n",
      "1290\r\n",
      "0\r\n",
      "0\r\n"
     ]
    }
   ],
   "source": [
    "# Fourth row: non-coding gene count\n",
    "for file in $annotfiles; do\n",
    "     grep -e $'\\tmiRNA\\t' -e $'\\tncRNA\\t' -e $'\\trRNA\\t' -e $'\\tsnRNA\\t' \\\n",
    "          -e $'\\tsnoRNA\\t' -e $'\\ttRNA\\t' -e $'\\ttranscript\\t' $file \\\n",
    "         | perl -ne 'm/Parent=([^;\\n]+)/ and print \"$1\\n\"' \\\n",
    "         | sort -u \\\n",
    "         | wc -l \\\n",
    "         | tr -d ' '\n",
    "done"
   ]
  },
  {
   "cell_type": "code",
   "execution_count": 7,
   "metadata": {
    "collapsed": false
   },
   "outputs": [
    {
     "name": "stdout",
     "output_type": "stream",
     "text": [
      "37299\r\n",
      "37669\r\n",
      "22784\r\n",
      "26251\r\n"
     ]
    }
   ],
   "source": [
    "# Fifth row: total iLocus count\n",
    "for file in $annotfiles; do\n",
    "    grep -c $'\\tlocus\\t' $file\n",
    "done"
   ]
  },
  {
   "cell_type": "code",
   "execution_count": 8,
   "metadata": {
    "collapsed": false
   },
   "outputs": [
    {
     "name": "stdout",
     "output_type": "stream",
     "text": [
      "\r\n",
      "species/Att6/Att6.iloci.gff3\r\n",
      "piLocus: 26507\r\n",
      "iiLocus: 9997\r\n",
      "ciLocus: 17\r\n",
      "fiLocus: 9\r\n",
      "niLocus: 769\r\n",
      "\r\n",
      "species/Atha/Atha.iloci.gff3\r\n",
      "piLocus: 27003\r\n",
      "iiLocus: 9276\r\n",
      "ciLocus: 96\r\n",
      "fiLocus: 8\r\n",
      "niLocus: 1286\r\n",
      "\r\n",
      "species/Am10/Am10.iloci.gff3\r\n",
      "piLocus: 9898\r\n",
      "iiLocus: 4790\r\n",
      "ciLocus: 106\r\n",
      "fiLocus: 7990\r\n",
      "niLocus: 0\r\n",
      "\r\n",
      "species/Am32/Am32.iloci.gff3\r\n",
      "piLocus: 14531\r\n",
      "iiLocus: 6160\r\n",
      "ciLocus: 292\r\n",
      "fiLocus: 5268\r\n",
      "niLocus: 0\r\n"
     ]
    }
   ],
   "source": [
    "# Final rows: iLocus count breakdown\n",
    "for file in $annotfiles; do\n",
    "    echo \"\"\n",
    "    echo $file\n",
    "    for type in piLocus iiLocus ciLocus fiLocus niLocus; do\n",
    "        echo -n \"$type: \"\n",
    "        grep -c iLocus_type=$type $file\n",
    "    done\n",
    "done"
   ]
  }
 ],
 "metadata": {
  "kernelspec": {
   "display_name": "Bash",
   "language": "bash",
   "name": "bash"
  },
  "language_info": {
   "codemirror_mode": "shell",
   "file_extension": ".sh",
   "mimetype": "text/x-sh",
   "name": "bash"
  }
 },
 "nbformat": 4,
 "nbformat_minor": 0
}
