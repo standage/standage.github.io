{
 "cells": [
  {
   "cell_type": "markdown",
   "metadata": {},
   "source": [
    "Generators have long been one of my favorite features of the Python programming language.\n",
    "As stated in the [Python documentation](https://docs.python.org/3/howto/functional.html#generators):\n",
    "\n",
    "> *When you call a *[regular]* function, it gets a private namespace where its local variables are created.\n",
    "> When the function reaches a `return` statement, the local variables are destroyed and the value is returned to the caller.\n",
    "> A later call to the same function creates a new private namespace and a fresh set of local variables.\n",
    "> But, what if the local variables weren’t thrown away on exiting a function?\n",
    "> What if you could later resume the function where it left off?\n",
    "> This is what generators provide; they can be thought of as resumable functions.*\n",
    "\n",
    "So simple and yet so concise and immensely powerful.\n",
    "It's difficult to express how useful generators are, and despite my enthusiasm for and constant reliance on them in my daily work even I haven't until recently fully appreciated their utility.\n",
    "\n",
    "Much of the software I wrote as a graduate student relies heavily on the [GtNodeStream class](http://genometools.org/libgenometools.html#GtNodeStream) from the [GenomeTools C library](http://genometools.org).\n",
    "The `GtNodeStream` is similar conceptually to Python generators in that it implements lazy (on-demand) evaluation and retains state between calls (it also requires quite a lot of code to implement and use).\n",
    "The real power of node streams, as explained very well in the [GenomeTools paper](http://dx.doi.org/10.1109/TCBB.2013.68), is that they can be *composed*.\n",
    "Any bit of data processing can be implemented as a custom node stream, and then larger data processing tasks can be addressed by chaining node streams together.\n",
    "I found this pattern to be a very valuable way to decompose large analysis tasks into smaller more manageable chunks.\n",
    "\n",
    "It wasn't until the last couple of days that I made the connection between `GtNodeStream`s and Python generators.\n",
    "In all my excitement, my burning question was this: **can generators easily be composed?**\n",
    "\n",
    "As the simple toy example below shows, yes. Yes they can.\n",
    "\n",
    "\n",
    "\n",
    "<!--\n",
    "This class provides similar functionality to Python generators: it maintains state between each call\n",
    "\n",
    ": perhaps you can't fully appreciate their utility and succint syntax until, after using them for a while, you have to write code without them (e.g. in C or C++).\n",
    "One way in which I haven't (until recently) fully appreciated generators\n",
    "\n",
    "\n",
    "'ve had to implement an iterator in a language like C or C++.\n",
    "\n",
    "\n",
    "Speaking of C, a lot of the software I wrote as a graduate student relies heavily on the [`GtNodeStream` class](http://genometools.org/libgenometools.html#GtNodeStream) from the [GenomeTools C library](http://genometools.org).\n",
    "The `GtNodeStrem` class provides similar behavior to what generator functi\n",
    "\n",
    "\n",
    "\n",
    "\n",
    "\n",
    "\n",
    "\n",
    "For example, software I wrote as a graduate student relied heavily on the [`GtNodeStream` class](http://genometools.org/libgenometools.html#GtNodeStream) from the [GenomeTools C library](http://genometools.org), which requires quite a bit of code to provide similar behavior.\n",
    "\n",
    "\n",
    "\n",
    "I spent a lot of time as a graduate student writing `GtNodeStream` implementations ()\n",
    "\n",
    "\n",
    "\n",
    "\n",
    ": I certainly didn't fully appreciate their utility when I first started writing software in Python.\n",
    "But now when I use other programming languages, generators\n",
    "\n",
    "\n",
    "Without generators, storing and reconstrucing a function's state each time it is invoked requires dedicated classes and lots of boilerplate code.\n",
    "Python's generator construct provides a concise\n",
    "\n",
    "\n",
    "\n",
    "But with generators, this nifty functionality comes \"for free\" simply by using `yield` instead of `return` to output values.\n",
    "\n",
    "\n",
    "as a core feature of the programming\n",
    "\n",
    "Rather than requiring programmers to implement a special class to maintain a function's state \n",
    "\n",
    "\n",
    "The ability of a function to retain its state between -->"
   ]
  },
  {
   "cell_type": "code",
   "execution_count": 1,
   "metadata": {
    "collapsed": true
   },
   "outputs": [],
   "source": [
    "def source():\n",
    "    for i in range(5):\n",
    "        data = [i+1]\n",
    "        yield data"
   ]
  },
  {
   "cell_type": "markdown",
   "metadata": {},
   "source": [
    "This first generator function is very simple: each time it is called, it returns a list with a single value in it.\n",
    "After 5 calls, the generator is fully depleted."
   ]
  },
  {
   "cell_type": "code",
   "execution_count": 2,
   "metadata": {
    "collapsed": true
   },
   "outputs": [],
   "source": [
    "def transform1(instream):\n",
    "    for data in instream:\n",
    "        data.append('t1')\n",
    "        yield data"
   ]
  },
  {
   "cell_type": "code",
   "execution_count": 3,
   "metadata": {
    "collapsed": true
   },
   "outputs": [],
   "source": [
    "def transform2(instream):\n",
    "    for data in instream:\n",
    "        data.append('t2')\n",
    "        yield data"
   ]
  },
  {
   "cell_type": "code",
   "execution_count": 4,
   "metadata": {
    "collapsed": true
   },
   "outputs": [],
   "source": [
    "def transform3(instream):\n",
    "    for data in instream:\n",
    "        data.append('t3')\n",
    "        yield data"
   ]
  },
  {
   "cell_type": "markdown",
   "metadata": {},
   "source": [
    "These next three generator functions are trivial.\n",
    "For each list object the generator pulls from its input stream, it simply appends an additional value.\n",
    "Now, consider the behavior we observe when these generators are all composed."
   ]
  },
  {
   "cell_type": "code",
   "execution_count": 5,
   "metadata": {
    "collapsed": false
   },
   "outputs": [
    {
     "name": "stdout",
     "output_type": "stream",
     "text": [
      "[1, 't1', 't2', 't3']\n",
      "[2, 't1', 't2', 't3']\n",
      "[3, 't1', 't2', 't3']\n",
      "[4, 't1', 't2', 't3']\n",
      "[5, 't1', 't2', 't3']\n"
     ]
    }
   ],
   "source": [
    "for data in transform3(transform2(transform1(source()))):\n",
    "    print(data)"
   ]
  },
  {
   "cell_type": "markdown",
   "metadata": {},
   "source": [
    "Each object returned by the `source` function is passed through the chain of generators, modified by each one as it passes throgh, until finally it is passed to the `data` variable in the `for` loop of the cell directly above.\n",
    "Of course this is a trivial example, but if we trade out the list object for (for example) a DNA sequence read, and trade out these silly `transform` functions for code that processes DNA sequences in a useful way, then all of a sudden we have an efficient and modular framework for DNA sequence analysis.\n",
    "\n",
    "What are your thoughts?\n",
    "Awesome sauce or old hat?\n",
    "Am I the late one to this party?"
   ]
  }
 ],
 "metadata": {
  "kernelspec": {
   "display_name": "Python 3",
   "language": "python",
   "name": "python3"
  },
  "language_info": {
   "codemirror_mode": {
    "name": "ipython",
    "version": 3
   },
   "file_extension": ".py",
   "mimetype": "text/x-python",
   "name": "python",
   "nbconvert_exporter": "python",
   "pygments_lexer": "ipython3",
   "version": "3.5.2"
  }
 },
 "nbformat": 4,
 "nbformat_minor": 1
}
